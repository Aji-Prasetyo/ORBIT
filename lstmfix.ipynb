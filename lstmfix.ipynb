{
  "nbformat": 4,
  "nbformat_minor": 0,
  "metadata": {
    "colab": {
      "name": "lstmfix.ipynb",
      "provenance": [],
      "collapsed_sections": []
    },
    "kernelspec": {
      "name": "python3",
      "display_name": "Python 3"
    },
    "language_info": {
      "name": "python"
    }
  },
  "cells": [
    {
      "cell_type": "code",
      "execution_count": null,
      "metadata": {
        "id": "kHSP8HsNFGA9"
      },
      "outputs": [],
      "source": [
        "import numpy as np\n",
        "from tensorflow.keras.models import Sequential\n",
        "from tensorflow.keras.layers import LSTM\n",
        "from tensorflow.keras.layers import Dense, Dropout\n",
        "import pandas as pd\n",
        "from matplotlib import pyplot as plt\n",
        "from sklearn.preprocessing import MinMaxScaler\n",
        "import seaborn as sns"
      ]
    },
    {
      "cell_type": "code",
      "source": [
        "df=pd.read_excel(\"project.xlsx\",parse_dates=[\"Date\"],index_col=[0])"
      ],
      "metadata": {
        "id": "uwR20MfRFJ-7"
      },
      "execution_count": null,
      "outputs": []
    },
    {
      "cell_type": "code",
      "source": [
        "print(df.index.freq)"
      ],
      "metadata": {
        "colab": {
          "base_uri": "https://localhost:8080/"
        },
        "id": "fno3B4k0FX8x",
        "outputId": "d16489ab-eb37-46a8-d258-4a6908b3379d"
      },
      "execution_count": null,
      "outputs": [
        {
          "output_type": "stream",
          "name": "stdout",
          "text": [
            "None\n"
          ]
        }
      ]
    },
    {
      "cell_type": "code",
      "source": [
        "df.shape"
      ],
      "metadata": {
        "colab": {
          "base_uri": "https://localhost:8080/"
        },
        "id": "NEZKkgT-FaMs",
        "outputId": "230247e9-018e-46d5-9e51-21cb7d33790b"
      },
      "execution_count": null,
      "outputs": [
        {
          "output_type": "execute_result",
          "data": {
            "text/plain": [
              "(861, 2)"
            ]
          },
          "metadata": {},
          "execution_count": 4
        }
      ]
    },
    {
      "cell_type": "code",
      "source": [
        "df.head()"
      ],
      "metadata": {
        "colab": {
          "base_uri": "https://localhost:8080/",
          "height": 238
        },
        "id": "W03tC_4uFeHx",
        "outputId": "1ec27216-183a-4435-f70d-cd5bfcec08cd"
      },
      "execution_count": null,
      "outputs": [
        {
          "output_type": "execute_result",
          "data": {
            "text/plain": [
              "            Wave  Wind\n",
              "Date                  \n",
              "2020-01-01  1526     7\n",
              "2020-01-02  1478     5\n",
              "2020-01-03  1441     6\n",
              "2020-01-04  1431     6\n",
              "2020-01-05  1469     9"
            ],
            "text/html": [
              "\n",
              "  <div id=\"df-531f512b-c2e7-4334-a6ce-c883c5c5b346\">\n",
              "    <div class=\"colab-df-container\">\n",
              "      <div>\n",
              "<style scoped>\n",
              "    .dataframe tbody tr th:only-of-type {\n",
              "        vertical-align: middle;\n",
              "    }\n",
              "\n",
              "    .dataframe tbody tr th {\n",
              "        vertical-align: top;\n",
              "    }\n",
              "\n",
              "    .dataframe thead th {\n",
              "        text-align: right;\n",
              "    }\n",
              "</style>\n",
              "<table border=\"1\" class=\"dataframe\">\n",
              "  <thead>\n",
              "    <tr style=\"text-align: right;\">\n",
              "      <th></th>\n",
              "      <th>Wave</th>\n",
              "      <th>Wind</th>\n",
              "    </tr>\n",
              "    <tr>\n",
              "      <th>Date</th>\n",
              "      <th></th>\n",
              "      <th></th>\n",
              "    </tr>\n",
              "  </thead>\n",
              "  <tbody>\n",
              "    <tr>\n",
              "      <th>2020-01-01</th>\n",
              "      <td>1526</td>\n",
              "      <td>7</td>\n",
              "    </tr>\n",
              "    <tr>\n",
              "      <th>2020-01-02</th>\n",
              "      <td>1478</td>\n",
              "      <td>5</td>\n",
              "    </tr>\n",
              "    <tr>\n",
              "      <th>2020-01-03</th>\n",
              "      <td>1441</td>\n",
              "      <td>6</td>\n",
              "    </tr>\n",
              "    <tr>\n",
              "      <th>2020-01-04</th>\n",
              "      <td>1431</td>\n",
              "      <td>6</td>\n",
              "    </tr>\n",
              "    <tr>\n",
              "      <th>2020-01-05</th>\n",
              "      <td>1469</td>\n",
              "      <td>9</td>\n",
              "    </tr>\n",
              "  </tbody>\n",
              "</table>\n",
              "</div>\n",
              "      <button class=\"colab-df-convert\" onclick=\"convertToInteractive('df-531f512b-c2e7-4334-a6ce-c883c5c5b346')\"\n",
              "              title=\"Convert this dataframe to an interactive table.\"\n",
              "              style=\"display:none;\">\n",
              "        \n",
              "  <svg xmlns=\"http://www.w3.org/2000/svg\" height=\"24px\"viewBox=\"0 0 24 24\"\n",
              "       width=\"24px\">\n",
              "    <path d=\"M0 0h24v24H0V0z\" fill=\"none\"/>\n",
              "    <path d=\"M18.56 5.44l.94 2.06.94-2.06 2.06-.94-2.06-.94-.94-2.06-.94 2.06-2.06.94zm-11 1L8.5 8.5l.94-2.06 2.06-.94-2.06-.94L8.5 2.5l-.94 2.06-2.06.94zm10 10l.94 2.06.94-2.06 2.06-.94-2.06-.94-.94-2.06-.94 2.06-2.06.94z\"/><path d=\"M17.41 7.96l-1.37-1.37c-.4-.4-.92-.59-1.43-.59-.52 0-1.04.2-1.43.59L10.3 9.45l-7.72 7.72c-.78.78-.78 2.05 0 2.83L4 21.41c.39.39.9.59 1.41.59.51 0 1.02-.2 1.41-.59l7.78-7.78 2.81-2.81c.8-.78.8-2.07 0-2.86zM5.41 20L4 18.59l7.72-7.72 1.47 1.35L5.41 20z\"/>\n",
              "  </svg>\n",
              "      </button>\n",
              "      \n",
              "  <style>\n",
              "    .colab-df-container {\n",
              "      display:flex;\n",
              "      flex-wrap:wrap;\n",
              "      gap: 12px;\n",
              "    }\n",
              "\n",
              "    .colab-df-convert {\n",
              "      background-color: #E8F0FE;\n",
              "      border: none;\n",
              "      border-radius: 50%;\n",
              "      cursor: pointer;\n",
              "      display: none;\n",
              "      fill: #1967D2;\n",
              "      height: 32px;\n",
              "      padding: 0 0 0 0;\n",
              "      width: 32px;\n",
              "    }\n",
              "\n",
              "    .colab-df-convert:hover {\n",
              "      background-color: #E2EBFA;\n",
              "      box-shadow: 0px 1px 2px rgba(60, 64, 67, 0.3), 0px 1px 3px 1px rgba(60, 64, 67, 0.15);\n",
              "      fill: #174EA6;\n",
              "    }\n",
              "\n",
              "    [theme=dark] .colab-df-convert {\n",
              "      background-color: #3B4455;\n",
              "      fill: #D2E3FC;\n",
              "    }\n",
              "\n",
              "    [theme=dark] .colab-df-convert:hover {\n",
              "      background-color: #434B5C;\n",
              "      box-shadow: 0px 1px 3px 1px rgba(0, 0, 0, 0.15);\n",
              "      filter: drop-shadow(0px 1px 2px rgba(0, 0, 0, 0.3));\n",
              "      fill: #FFFFFF;\n",
              "    }\n",
              "  </style>\n",
              "\n",
              "      <script>\n",
              "        const buttonEl =\n",
              "          document.querySelector('#df-531f512b-c2e7-4334-a6ce-c883c5c5b346 button.colab-df-convert');\n",
              "        buttonEl.style.display =\n",
              "          google.colab.kernel.accessAllowed ? 'block' : 'none';\n",
              "\n",
              "        async function convertToInteractive(key) {\n",
              "          const element = document.querySelector('#df-531f512b-c2e7-4334-a6ce-c883c5c5b346');\n",
              "          const dataTable =\n",
              "            await google.colab.kernel.invokeFunction('convertToInteractive',\n",
              "                                                     [key], {});\n",
              "          if (!dataTable) return;\n",
              "\n",
              "          const docLinkHtml = 'Like what you see? Visit the ' +\n",
              "            '<a target=\"_blank\" href=https://colab.research.google.com/notebooks/data_table.ipynb>data table notebook</a>'\n",
              "            + ' to learn more about interactive tables.';\n",
              "          element.innerHTML = '';\n",
              "          dataTable['output_type'] = 'display_data';\n",
              "          await google.colab.output.renderOutput(dataTable, element);\n",
              "          const docLink = document.createElement('div');\n",
              "          docLink.innerHTML = docLinkHtml;\n",
              "          element.appendChild(docLink);\n",
              "        }\n",
              "      </script>\n",
              "    </div>\n",
              "  </div>\n",
              "  "
            ]
          },
          "metadata": {},
          "execution_count": 5
        }
      ]
    },
    {
      "cell_type": "code",
      "source": [
        "df.tail()"
      ],
      "metadata": {
        "colab": {
          "base_uri": "https://localhost:8080/",
          "height": 238
        },
        "id": "x6zgCWQlFjMw",
        "outputId": "490eccba-31c6-4d89-ad48-93469f25f97a"
      },
      "execution_count": null,
      "outputs": [
        {
          "output_type": "execute_result",
          "data": {
            "text/plain": [
              "            Wave  Wind\n",
              "Date                  \n",
              "2022-05-06  1501     6\n",
              "2022-05-07  1483     3\n",
              "2022-05-08  1436     3\n",
              "2022-05-09  1453     6\n",
              "2022-05-10  1518     6"
            ],
            "text/html": [
              "\n",
              "  <div id=\"df-3c5a3bc5-8998-431d-ada9-6b43eb1ce2cc\">\n",
              "    <div class=\"colab-df-container\">\n",
              "      <div>\n",
              "<style scoped>\n",
              "    .dataframe tbody tr th:only-of-type {\n",
              "        vertical-align: middle;\n",
              "    }\n",
              "\n",
              "    .dataframe tbody tr th {\n",
              "        vertical-align: top;\n",
              "    }\n",
              "\n",
              "    .dataframe thead th {\n",
              "        text-align: right;\n",
              "    }\n",
              "</style>\n",
              "<table border=\"1\" class=\"dataframe\">\n",
              "  <thead>\n",
              "    <tr style=\"text-align: right;\">\n",
              "      <th></th>\n",
              "      <th>Wave</th>\n",
              "      <th>Wind</th>\n",
              "    </tr>\n",
              "    <tr>\n",
              "      <th>Date</th>\n",
              "      <th></th>\n",
              "      <th></th>\n",
              "    </tr>\n",
              "  </thead>\n",
              "  <tbody>\n",
              "    <tr>\n",
              "      <th>2022-05-06</th>\n",
              "      <td>1501</td>\n",
              "      <td>6</td>\n",
              "    </tr>\n",
              "    <tr>\n",
              "      <th>2022-05-07</th>\n",
              "      <td>1483</td>\n",
              "      <td>3</td>\n",
              "    </tr>\n",
              "    <tr>\n",
              "      <th>2022-05-08</th>\n",
              "      <td>1436</td>\n",
              "      <td>3</td>\n",
              "    </tr>\n",
              "    <tr>\n",
              "      <th>2022-05-09</th>\n",
              "      <td>1453</td>\n",
              "      <td>6</td>\n",
              "    </tr>\n",
              "    <tr>\n",
              "      <th>2022-05-10</th>\n",
              "      <td>1518</td>\n",
              "      <td>6</td>\n",
              "    </tr>\n",
              "  </tbody>\n",
              "</table>\n",
              "</div>\n",
              "      <button class=\"colab-df-convert\" onclick=\"convertToInteractive('df-3c5a3bc5-8998-431d-ada9-6b43eb1ce2cc')\"\n",
              "              title=\"Convert this dataframe to an interactive table.\"\n",
              "              style=\"display:none;\">\n",
              "        \n",
              "  <svg xmlns=\"http://www.w3.org/2000/svg\" height=\"24px\"viewBox=\"0 0 24 24\"\n",
              "       width=\"24px\">\n",
              "    <path d=\"M0 0h24v24H0V0z\" fill=\"none\"/>\n",
              "    <path d=\"M18.56 5.44l.94 2.06.94-2.06 2.06-.94-2.06-.94-.94-2.06-.94 2.06-2.06.94zm-11 1L8.5 8.5l.94-2.06 2.06-.94-2.06-.94L8.5 2.5l-.94 2.06-2.06.94zm10 10l.94 2.06.94-2.06 2.06-.94-2.06-.94-.94-2.06-.94 2.06-2.06.94z\"/><path d=\"M17.41 7.96l-1.37-1.37c-.4-.4-.92-.59-1.43-.59-.52 0-1.04.2-1.43.59L10.3 9.45l-7.72 7.72c-.78.78-.78 2.05 0 2.83L4 21.41c.39.39.9.59 1.41.59.51 0 1.02-.2 1.41-.59l7.78-7.78 2.81-2.81c.8-.78.8-2.07 0-2.86zM5.41 20L4 18.59l7.72-7.72 1.47 1.35L5.41 20z\"/>\n",
              "  </svg>\n",
              "      </button>\n",
              "      \n",
              "  <style>\n",
              "    .colab-df-container {\n",
              "      display:flex;\n",
              "      flex-wrap:wrap;\n",
              "      gap: 12px;\n",
              "    }\n",
              "\n",
              "    .colab-df-convert {\n",
              "      background-color: #E8F0FE;\n",
              "      border: none;\n",
              "      border-radius: 50%;\n",
              "      cursor: pointer;\n",
              "      display: none;\n",
              "      fill: #1967D2;\n",
              "      height: 32px;\n",
              "      padding: 0 0 0 0;\n",
              "      width: 32px;\n",
              "    }\n",
              "\n",
              "    .colab-df-convert:hover {\n",
              "      background-color: #E2EBFA;\n",
              "      box-shadow: 0px 1px 2px rgba(60, 64, 67, 0.3), 0px 1px 3px 1px rgba(60, 64, 67, 0.15);\n",
              "      fill: #174EA6;\n",
              "    }\n",
              "\n",
              "    [theme=dark] .colab-df-convert {\n",
              "      background-color: #3B4455;\n",
              "      fill: #D2E3FC;\n",
              "    }\n",
              "\n",
              "    [theme=dark] .colab-df-convert:hover {\n",
              "      background-color: #434B5C;\n",
              "      box-shadow: 0px 1px 3px 1px rgba(0, 0, 0, 0.15);\n",
              "      filter: drop-shadow(0px 1px 2px rgba(0, 0, 0, 0.3));\n",
              "      fill: #FFFFFF;\n",
              "    }\n",
              "  </style>\n",
              "\n",
              "      <script>\n",
              "        const buttonEl =\n",
              "          document.querySelector('#df-3c5a3bc5-8998-431d-ada9-6b43eb1ce2cc button.colab-df-convert');\n",
              "        buttonEl.style.display =\n",
              "          google.colab.kernel.accessAllowed ? 'block' : 'none';\n",
              "\n",
              "        async function convertToInteractive(key) {\n",
              "          const element = document.querySelector('#df-3c5a3bc5-8998-431d-ada9-6b43eb1ce2cc');\n",
              "          const dataTable =\n",
              "            await google.colab.kernel.invokeFunction('convertToInteractive',\n",
              "                                                     [key], {});\n",
              "          if (!dataTable) return;\n",
              "\n",
              "          const docLinkHtml = 'Like what you see? Visit the ' +\n",
              "            '<a target=\"_blank\" href=https://colab.research.google.com/notebooks/data_table.ipynb>data table notebook</a>'\n",
              "            + ' to learn more about interactive tables.';\n",
              "          element.innerHTML = '';\n",
              "          dataTable['output_type'] = 'display_data';\n",
              "          await google.colab.output.renderOutput(dataTable, element);\n",
              "          const docLink = document.createElement('div');\n",
              "          docLink.innerHTML = docLinkHtml;\n",
              "          element.appendChild(docLink);\n",
              "        }\n",
              "      </script>\n",
              "    </div>\n",
              "  </div>\n",
              "  "
            ]
          },
          "metadata": {},
          "execution_count": 6
        }
      ]
    },
    {
      "cell_type": "code",
      "source": [
        "test_split=round(len(df)*0.20)"
      ],
      "metadata": {
        "id": "rbj9VOcIFoHZ"
      },
      "execution_count": null,
      "outputs": []
    },
    {
      "cell_type": "code",
      "source": [
        "test_split"
      ],
      "metadata": {
        "colab": {
          "base_uri": "https://localhost:8080/"
        },
        "id": "lCXIFbsWFujy",
        "outputId": "7a414f0c-b08b-4997-a0e1-5395f02a83bb"
      },
      "execution_count": null,
      "outputs": [
        {
          "output_type": "execute_result",
          "data": {
            "text/plain": [
              "172"
            ]
          },
          "metadata": {},
          "execution_count": 8
        }
      ]
    },
    {
      "cell_type": "code",
      "source": [
        "df_for_training=df[:-172]\n",
        "df_for_testing=df[-172:]"
      ],
      "metadata": {
        "id": "6oKxQghZFwGM"
      },
      "execution_count": null,
      "outputs": []
    },
    {
      "cell_type": "code",
      "source": [
        "print(df_for_training.shape)\n",
        "print(df_for_testing.shape)"
      ],
      "metadata": {
        "colab": {
          "base_uri": "https://localhost:8080/"
        },
        "id": "nNVpjhmJF4JO",
        "outputId": "d4297729-50cc-4793-fd51-29507b8ab5d4"
      },
      "execution_count": null,
      "outputs": [
        {
          "output_type": "stream",
          "name": "stdout",
          "text": [
            "(689, 2)\n",
            "(172, 2)\n"
          ]
        }
      ]
    },
    {
      "cell_type": "code",
      "source": [
        "scaler = MinMaxScaler(feature_range=(0,1))\n",
        "df_for_training_scaled = scaler.fit_transform(df_for_training)"
      ],
      "metadata": {
        "id": "WBJDZy-VF7kX"
      },
      "execution_count": null,
      "outputs": []
    },
    {
      "cell_type": "code",
      "source": [
        "df_for_testing_scaled=scaler.transform(df_for_testing)"
      ],
      "metadata": {
        "id": "zBJONL7MF-Lr"
      },
      "execution_count": null,
      "outputs": []
    },
    {
      "cell_type": "code",
      "source": [
        "df_for_training_scaled"
      ],
      "metadata": {
        "colab": {
          "base_uri": "https://localhost:8080/"
        },
        "id": "tG0ZYkAfGAls",
        "outputId": "f85f3214-7eb2-4182-d42b-9c762daa31bb"
      },
      "execution_count": null,
      "outputs": [
        {
          "output_type": "execute_result",
          "data": {
            "text/plain": [
              "array([[0.8432856 , 0.23809524],\n",
              "       [0.83031613, 0.14285714],\n",
              "       [0.82031883, 0.19047619],\n",
              "       ...,\n",
              "       [0.87327749, 0.0952381 ],\n",
              "       [0.85787625, 0.14285714],\n",
              "       [0.86760335, 0.42857143]])"
            ]
          },
          "metadata": {},
          "execution_count": 13
        }
      ]
    },
    {
      "cell_type": "code",
      "source": [
        "df_for_training_scaled.shape"
      ],
      "metadata": {
        "colab": {
          "base_uri": "https://localhost:8080/"
        },
        "id": "ZbiieVcIGCmN",
        "outputId": "ff7273e3-3714-4113-9ec7-d44d94dc6ab0"
      },
      "execution_count": null,
      "outputs": [
        {
          "output_type": "execute_result",
          "data": {
            "text/plain": [
              "(689, 2)"
            ]
          },
          "metadata": {},
          "execution_count": 14
        }
      ]
    },
    {
      "cell_type": "code",
      "source": [
        "df_for_testing_scaled.shape"
      ],
      "metadata": {
        "colab": {
          "base_uri": "https://localhost:8080/"
        },
        "id": "nshVSl73GGKp",
        "outputId": "5ab92b00-6fa7-4ee8-bd5c-19aa3d5bbb98"
      },
      "execution_count": null,
      "outputs": [
        {
          "output_type": "execute_result",
          "data": {
            "text/plain": [
              "(172, 2)"
            ]
          },
          "metadata": {},
          "execution_count": 15
        }
      ]
    },
    {
      "cell_type": "code",
      "source": [
        "def createXY(dataset,n_past):\n",
        "    dataX = []\n",
        "    dataY = []\n",
        "    for i in range(n_past, len(dataset)):\n",
        "            dataX.append(dataset[i - n_past:i, 0:dataset.shape[1]])\n",
        "            dataY.append(dataset[i,0])\n",
        "    return np.array(dataX),np.array(dataY)   "
      ],
      "metadata": {
        "id": "HqA6SGUFGIMx"
      },
      "execution_count": null,
      "outputs": []
    },
    {
      "cell_type": "code",
      "source": [
        "trainX,trainY=createXY(df_for_training_scaled,7)"
      ],
      "metadata": {
        "id": "7GfsLUezGLNX"
      },
      "execution_count": null,
      "outputs": []
    },
    {
      "cell_type": "code",
      "source": [
        "trainX.shape"
      ],
      "metadata": {
        "colab": {
          "base_uri": "https://localhost:8080/"
        },
        "id": "hiElWcwwGNil",
        "outputId": "dcdf2ea3-0686-474e-a64f-9199feec16b9"
      },
      "execution_count": null,
      "outputs": [
        {
          "output_type": "execute_result",
          "data": {
            "text/plain": [
              "(682, 7, 2)"
            ]
          },
          "metadata": {},
          "execution_count": 18
        }
      ]
    },
    {
      "cell_type": "code",
      "source": [
        "testX,testY=createXY(df_for_testing_scaled,7)"
      ],
      "metadata": {
        "id": "8wb7-XViGPs3"
      },
      "execution_count": null,
      "outputs": []
    },
    {
      "cell_type": "code",
      "source": [
        "trainX[0]"
      ],
      "metadata": {
        "colab": {
          "base_uri": "https://localhost:8080/"
        },
        "id": "36PipumtGSVo",
        "outputId": "89c9d639-6984-4ca0-8840-49163dcf1b88"
      },
      "execution_count": null,
      "outputs": [
        {
          "output_type": "execute_result",
          "data": {
            "text/plain": [
              "array([[0.8432856 , 0.23809524],\n",
              "       [0.83031613, 0.14285714],\n",
              "       [0.82031883, 0.19047619],\n",
              "       [0.81761686, 0.19047619],\n",
              "       [0.82788436, 0.33333333],\n",
              "       [0.83734126, 0.23809524],\n",
              "       [0.82112942, 0.19047619]])"
            ]
          },
          "metadata": {},
          "execution_count": 20
        }
      ]
    },
    {
      "cell_type": "code",
      "source": [
        "print(\"trainX Shape-- \",trainX.shape)\n",
        "print(\"trainY Shape-- \",trainY.shape)"
      ],
      "metadata": {
        "colab": {
          "base_uri": "https://localhost:8080/"
        },
        "id": "CmXjBVcqGVG4",
        "outputId": "803080fe-9400-41f2-af80-f53547271a07"
      },
      "execution_count": null,
      "outputs": [
        {
          "output_type": "stream",
          "name": "stdout",
          "text": [
            "trainX Shape--  (682, 7, 2)\n",
            "trainY Shape--  (682,)\n"
          ]
        }
      ]
    },
    {
      "cell_type": "code",
      "source": [
        "print(\"testX Shape-- \",testX.shape)\n",
        "print(\"testY Shape-- \",testY.shape)"
      ],
      "metadata": {
        "colab": {
          "base_uri": "https://localhost:8080/"
        },
        "id": "k8VPz482GYdT",
        "outputId": "ba1bff5b-1de2-4bb0-8edb-5a31e14cbc0a"
      },
      "execution_count": null,
      "outputs": [
        {
          "output_type": "stream",
          "name": "stdout",
          "text": [
            "testX Shape--  (165, 7, 2)\n",
            "testY Shape--  (165,)\n"
          ]
        }
      ]
    },
    {
      "cell_type": "code",
      "source": [
        "print(\"trainX[0]-- \\n\",trainX[0])\n",
        "print(\"\\ntrainY[0]-- \",trainY[0])"
      ],
      "metadata": {
        "colab": {
          "base_uri": "https://localhost:8080/"
        },
        "id": "9K7NpzoVGaSc",
        "outputId": "0847b903-2992-4f0d-9927-1a6056c42c18"
      },
      "execution_count": null,
      "outputs": [
        {
          "output_type": "stream",
          "name": "stdout",
          "text": [
            "trainX[0]-- \n",
            " [[0.8432856  0.23809524]\n",
            " [0.83031613 0.14285714]\n",
            " [0.82031883 0.19047619]\n",
            " [0.81761686 0.19047619]\n",
            " [0.82788436 0.33333333]\n",
            " [0.83734126 0.23809524]\n",
            " [0.82112942 0.19047619]]\n",
            "\n",
            "trainY[0]--  0.8305863280194541\n"
          ]
        }
      ]
    },
    {
      "cell_type": "code",
      "source": [
        "trainY[0]"
      ],
      "metadata": {
        "colab": {
          "base_uri": "https://localhost:8080/"
        },
        "id": "aOal7tvIGd7L",
        "outputId": "1ff6834e-bcc7-42f4-9e10-1bda7984d74f"
      },
      "execution_count": null,
      "outputs": [
        {
          "output_type": "execute_result",
          "data": {
            "text/plain": [
              "0.8305863280194541"
            ]
          },
          "metadata": {},
          "execution_count": 24
        }
      ]
    },
    {
      "cell_type": "code",
      "source": [
        "trainY.shape"
      ],
      "metadata": {
        "colab": {
          "base_uri": "https://localhost:8080/"
        },
        "id": "7ea_5DGuGkCM",
        "outputId": "99260d61-f090-4fec-da8b-290babedc5b9"
      },
      "execution_count": null,
      "outputs": [
        {
          "output_type": "execute_result",
          "data": {
            "text/plain": [
              "(682,)"
            ]
          },
          "metadata": {},
          "execution_count": 25
        }
      ]
    },
    {
      "cell_type": "code",
      "source": [
        "from keras.wrappers.scikit_learn import KerasRegressor\n",
        "from sklearn.model_selection import GridSearchCV"
      ],
      "metadata": {
        "id": "Ql3TA59FGmk4"
      },
      "execution_count": null,
      "outputs": []
    },
    {
      "cell_type": "code",
      "source": [
        "def build_model(optimizer):\n",
        "    grid_model = Sequential()\n",
        "    grid_model.add(LSTM(50,return_sequences=True,input_shape=(7,2)))\n",
        "    grid_model.add(LSTM(50))\n",
        "    grid_model.add(Dropout(0.2))\n",
        "    grid_model.add(Dense(2))\n",
        "   \n",
        "\n",
        "    grid_model.compile(loss = 'mse',optimizer = optimizer)\n",
        "    return grid_model\n",
        "\n",
        "grid_model = KerasRegressor(build_fn=build_model,verbose=1,validation_data=(testX,testY))\n",
        "parameters = {'batch_size' : [16,20],\n",
        "              'epochs' : [8,10],\n",
        "              'optimizer' : ['adam','Adadelta'] }\n",
        "\n",
        "grid_search  = GridSearchCV(estimator = grid_model,\n",
        "                            param_grid = parameters,\n",
        "                            cv = 2)"
      ],
      "metadata": {
        "colab": {
          "base_uri": "https://localhost:8080/"
        },
        "id": "pCd93VFFGp_S",
        "outputId": "d26fa8ff-3dfd-4e2b-a187-62e25631017d"
      },
      "execution_count": null,
      "outputs": [
        {
          "output_type": "stream",
          "name": "stderr",
          "text": [
            "/usr/local/lib/python3.7/dist-packages/ipykernel_launcher.py:12: DeprecationWarning: KerasRegressor is deprecated, use Sci-Keras (https://github.com/adriangb/scikeras) instead. See https://www.adriangb.com/scikeras/stable/migration.html for help migrating.\n",
            "  if sys.path[0] == '':\n"
          ]
        }
      ]
    },
    {
      "cell_type": "code",
      "source": [
        "grid_search = grid_search.fit(trainX,trainY)"
      ],
      "metadata": {
        "colab": {
          "base_uri": "https://localhost:8080/"
        },
        "id": "oNk8X-0zGuRD",
        "outputId": "bea539ce-c692-4f26-9e78-b6a5b6bfa4e5"
      },
      "execution_count": null,
      "outputs": [
        {
          "output_type": "stream",
          "name": "stdout",
          "text": [
            "Epoch 1/8\n",
            "22/22 [==============================] - 5s 55ms/step - loss: 0.3256 - val_loss: 0.0371\n",
            "Epoch 2/8\n",
            "22/22 [==============================] - 0s 12ms/step - loss: 0.0314 - val_loss: 0.0036\n",
            "Epoch 3/8\n",
            "22/22 [==============================] - 0s 12ms/step - loss: 0.0164 - val_loss: 0.0020\n",
            "Epoch 4/8\n",
            "22/22 [==============================] - 0s 12ms/step - loss: 0.0156 - val_loss: 0.0018\n",
            "Epoch 5/8\n",
            "22/22 [==============================] - 0s 11ms/step - loss: 0.0134 - val_loss: 0.0022\n",
            "Epoch 6/8\n",
            "22/22 [==============================] - 0s 12ms/step - loss: 0.0139 - val_loss: 0.0022\n",
            "Epoch 7/8\n",
            "22/22 [==============================] - 0s 12ms/step - loss: 0.0146 - val_loss: 0.0024\n",
            "Epoch 8/8\n",
            "22/22 [==============================] - 0s 11ms/step - loss: 0.0133 - val_loss: 0.0018\n",
            "22/22 [==============================] - 0s 4ms/step - loss: 0.0041\n",
            "Epoch 1/8\n",
            "22/22 [==============================] - 5s 55ms/step - loss: 0.3255 - val_loss: 0.0502\n",
            "Epoch 2/8\n",
            "22/22 [==============================] - 0s 12ms/step - loss: 0.0277 - val_loss: 0.0043\n",
            "Epoch 3/8\n",
            "22/22 [==============================] - 0s 12ms/step - loss: 0.0161 - val_loss: 0.0018\n",
            "Epoch 4/8\n",
            "22/22 [==============================] - 0s 12ms/step - loss: 0.0128 - val_loss: 0.0018\n",
            "Epoch 5/8\n",
            "22/22 [==============================] - 0s 13ms/step - loss: 0.0146 - val_loss: 0.0017\n",
            "Epoch 6/8\n",
            "22/22 [==============================] - 0s 12ms/step - loss: 0.0127 - val_loss: 0.0017\n",
            "Epoch 7/8\n",
            "22/22 [==============================] - 0s 12ms/step - loss: 0.0135 - val_loss: 0.0018\n",
            "Epoch 8/8\n",
            "22/22 [==============================] - 0s 12ms/step - loss: 0.0141 - val_loss: 0.0018\n",
            "22/22 [==============================] - 0s 3ms/step - loss: 0.0060\n",
            "Epoch 1/8\n",
            "22/22 [==============================] - 5s 53ms/step - loss: 0.6105 - val_loss: 0.5901\n",
            "Epoch 2/8\n",
            "22/22 [==============================] - 0s 11ms/step - loss: 0.6093 - val_loss: 0.5885\n",
            "Epoch 3/8\n",
            "22/22 [==============================] - 0s 11ms/step - loss: 0.6074 - val_loss: 0.5868\n",
            "Epoch 4/8\n",
            "22/22 [==============================] - 0s 12ms/step - loss: 0.6055 - val_loss: 0.5852\n",
            "Epoch 5/8\n",
            "22/22 [==============================] - 0s 12ms/step - loss: 0.6024 - val_loss: 0.5835\n",
            "Epoch 6/8\n",
            "22/22 [==============================] - 0s 12ms/step - loss: 0.6014 - val_loss: 0.5817\n",
            "Epoch 7/8\n",
            "22/22 [==============================] - 0s 11ms/step - loss: 0.6010 - val_loss: 0.5800\n",
            "Epoch 8/8\n",
            "22/22 [==============================] - 0s 13ms/step - loss: 0.5975 - val_loss: 0.5782\n",
            "22/22 [==============================] - 0s 3ms/step - loss: 0.6554\n",
            "Epoch 1/8\n",
            "22/22 [==============================] - 5s 55ms/step - loss: 0.6960 - val_loss: 0.6142\n",
            "Epoch 2/8\n",
            "22/22 [==============================] - 0s 12ms/step - loss: 0.6970 - val_loss: 0.6128\n",
            "Epoch 3/8\n",
            "22/22 [==============================] - 0s 12ms/step - loss: 0.6945 - val_loss: 0.6113\n",
            "Epoch 4/8\n",
            "22/22 [==============================] - 0s 12ms/step - loss: 0.6948 - val_loss: 0.6098\n",
            "Epoch 5/8\n",
            "22/22 [==============================] - 0s 12ms/step - loss: 0.6920 - val_loss: 0.6083\n",
            "Epoch 6/8\n",
            "22/22 [==============================] - 0s 14ms/step - loss: 0.6889 - val_loss: 0.6068\n",
            "Epoch 7/8\n",
            "22/22 [==============================] - 0s 11ms/step - loss: 0.6882 - val_loss: 0.6052\n",
            "Epoch 8/8\n",
            "22/22 [==============================] - 0s 14ms/step - loss: 0.6856 - val_loss: 0.6036\n",
            "22/22 [==============================] - 0s 4ms/step - loss: 0.6234\n",
            "Epoch 1/10\n",
            "22/22 [==============================] - 5s 54ms/step - loss: 0.2340 - val_loss: 0.0314\n",
            "Epoch 2/10\n",
            "22/22 [==============================] - 0s 14ms/step - loss: 0.0206 - val_loss: 0.0029\n",
            "Epoch 3/10\n",
            "22/22 [==============================] - 0s 12ms/step - loss: 0.0153 - val_loss: 0.0017\n",
            "Epoch 4/10\n",
            "22/22 [==============================] - 0s 12ms/step - loss: 0.0155 - val_loss: 0.0017\n",
            "Epoch 5/10\n",
            "22/22 [==============================] - 0s 12ms/step - loss: 0.0138 - val_loss: 0.0021\n",
            "Epoch 6/10\n",
            "22/22 [==============================] - 0s 12ms/step - loss: 0.0144 - val_loss: 0.0017\n",
            "Epoch 7/10\n",
            "22/22 [==============================] - 0s 12ms/step - loss: 0.0124 - val_loss: 0.0021\n",
            "Epoch 8/10\n",
            "22/22 [==============================] - 0s 12ms/step - loss: 0.0121 - val_loss: 0.0020\n",
            "Epoch 9/10\n",
            "22/22 [==============================] - 0s 12ms/step - loss: 0.0119 - val_loss: 0.0018\n",
            "Epoch 10/10\n",
            "22/22 [==============================] - 0s 13ms/step - loss: 0.0128 - val_loss: 0.0020\n",
            "22/22 [==============================] - 0s 3ms/step - loss: 0.0034\n",
            "Epoch 1/10\n",
            "22/22 [==============================] - 5s 52ms/step - loss: 0.3313 - val_loss: 0.0483\n",
            "Epoch 2/10\n",
            "22/22 [==============================] - 0s 11ms/step - loss: 0.0337 - val_loss: 0.0021\n",
            "Epoch 3/10\n",
            "22/22 [==============================] - 0s 12ms/step - loss: 0.0142 - val_loss: 0.0023\n",
            "Epoch 4/10\n",
            "22/22 [==============================] - 0s 11ms/step - loss: 0.0124 - val_loss: 0.0017\n",
            "Epoch 5/10\n",
            "22/22 [==============================] - 0s 13ms/step - loss: 0.0124 - val_loss: 0.0021\n",
            "Epoch 6/10\n",
            "22/22 [==============================] - 0s 12ms/step - loss: 0.0111 - val_loss: 0.0020\n",
            "Epoch 7/10\n",
            "22/22 [==============================] - 0s 12ms/step - loss: 0.0104 - val_loss: 0.0017\n",
            "Epoch 8/10\n",
            "22/22 [==============================] - 0s 12ms/step - loss: 0.0114 - val_loss: 0.0017\n",
            "Epoch 9/10\n",
            "22/22 [==============================] - 0s 12ms/step - loss: 0.0109 - val_loss: 0.0018\n",
            "Epoch 10/10\n",
            "22/22 [==============================] - 0s 12ms/step - loss: 0.0114 - val_loss: 0.0022\n",
            "22/22 [==============================] - 0s 3ms/step - loss: 0.0061\n",
            "Epoch 1/10\n",
            "22/22 [==============================] - 5s 51ms/step - loss: 0.7442 - val_loss: 0.7250\n",
            "Epoch 2/10\n",
            "22/22 [==============================] - 0s 12ms/step - loss: 0.7479 - val_loss: 0.7231\n",
            "Epoch 3/10\n",
            "22/22 [==============================] - 0s 12ms/step - loss: 0.7432 - val_loss: 0.7213\n",
            "Epoch 4/10\n",
            "22/22 [==============================] - 0s 13ms/step - loss: 0.7445 - val_loss: 0.7194\n",
            "Epoch 5/10\n",
            "22/22 [==============================] - 0s 13ms/step - loss: 0.7378 - val_loss: 0.7174\n",
            "Epoch 6/10\n",
            "22/22 [==============================] - 0s 12ms/step - loss: 0.7375 - val_loss: 0.7155\n",
            "Epoch 7/10\n",
            "22/22 [==============================] - 0s 11ms/step - loss: 0.7393 - val_loss: 0.7135\n",
            "Epoch 8/10\n",
            "22/22 [==============================] - 0s 11ms/step - loss: 0.7311 - val_loss: 0.7115\n",
            "Epoch 9/10\n",
            "22/22 [==============================] - 0s 13ms/step - loss: 0.7324 - val_loss: 0.7094\n",
            "Epoch 10/10\n",
            "22/22 [==============================] - 0s 12ms/step - loss: 0.7288 - val_loss: 0.7074\n",
            "22/22 [==============================] - 0s 3ms/step - loss: 0.7980\n",
            "Epoch 1/10\n",
            "22/22 [==============================] - 5s 54ms/step - loss: 0.7721 - val_loss: 0.6830\n",
            "Epoch 2/10\n",
            "22/22 [==============================] - 0s 12ms/step - loss: 0.7729 - val_loss: 0.6815\n",
            "Epoch 3/10\n",
            "22/22 [==============================] - 0s 11ms/step - loss: 0.7712 - val_loss: 0.6800\n",
            "Epoch 4/10\n",
            "22/22 [==============================] - 0s 11ms/step - loss: 0.7713 - val_loss: 0.6784\n",
            "Epoch 5/10\n",
            "22/22 [==============================] - 0s 12ms/step - loss: 0.7663 - val_loss: 0.6768\n",
            "Epoch 6/10\n",
            "22/22 [==============================] - 0s 13ms/step - loss: 0.7692 - val_loss: 0.6752\n",
            "Epoch 7/10\n",
            "22/22 [==============================] - 0s 12ms/step - loss: 0.7671 - val_loss: 0.6736\n",
            "Epoch 8/10\n",
            "22/22 [==============================] - 0s 12ms/step - loss: 0.7624 - val_loss: 0.6719\n",
            "Epoch 9/10\n",
            "22/22 [==============================] - 0s 12ms/step - loss: 0.7596 - val_loss: 0.6703\n",
            "Epoch 10/10\n",
            "22/22 [==============================] - 0s 13ms/step - loss: 0.7596 - val_loss: 0.6686\n",
            "22/22 [==============================] - 0s 3ms/step - loss: 0.6900\n",
            "Epoch 1/8\n",
            "18/18 [==============================] - 5s 90ms/step - loss: 0.2761 - val_loss: 0.0303\n",
            "Epoch 2/8\n",
            "18/18 [==============================] - 0s 12ms/step - loss: 0.0305 - val_loss: 0.0090\n",
            "Epoch 3/8\n",
            "18/18 [==============================] - 0s 12ms/step - loss: 0.0136 - val_loss: 0.0024\n",
            "Epoch 4/8\n",
            "18/18 [==============================] - 0s 13ms/step - loss: 0.0150 - val_loss: 0.0020\n",
            "Epoch 5/8\n",
            "18/18 [==============================] - 0s 13ms/step - loss: 0.0139 - val_loss: 0.0017\n",
            "Epoch 6/8\n",
            "18/18 [==============================] - 0s 12ms/step - loss: 0.0142 - val_loss: 0.0018\n",
            "Epoch 7/8\n",
            "18/18 [==============================] - 0s 12ms/step - loss: 0.0145 - val_loss: 0.0020\n",
            "Epoch 8/8\n",
            "18/18 [==============================] - 0s 13ms/step - loss: 0.0133 - val_loss: 0.0017\n",
            "18/18 [==============================] - 0s 4ms/step - loss: 0.0037\n",
            "Epoch 1/8\n",
            "18/18 [==============================] - 5s 63ms/step - loss: 0.4091 - val_loss: 0.0131\n",
            "Epoch 2/8\n",
            "18/18 [==============================] - 0s 11ms/step - loss: 0.0395 - val_loss: 0.0107\n",
            "Epoch 3/8\n",
            "18/18 [==============================] - 0s 13ms/step - loss: 0.0218 - val_loss: 0.0049\n",
            "Epoch 4/8\n",
            "18/18 [==============================] - 0s 13ms/step - loss: 0.0181 - val_loss: 0.0024\n",
            "Epoch 5/8\n",
            "18/18 [==============================] - 0s 12ms/step - loss: 0.0149 - val_loss: 0.0022\n",
            "Epoch 6/8\n",
            "18/18 [==============================] - 0s 13ms/step - loss: 0.0126 - val_loss: 0.0019\n",
            "Epoch 7/8\n",
            "18/18 [==============================] - 0s 13ms/step - loss: 0.0138 - val_loss: 0.0018\n",
            "Epoch 8/8\n",
            "18/18 [==============================] - 0s 12ms/step - loss: 0.0116 - val_loss: 0.0019\n",
            "18/18 [==============================] - 0s 3ms/step - loss: 0.0060\n",
            "Epoch 1/8\n",
            "18/18 [==============================] - 5s 64ms/step - loss: 0.6447 - val_loss: 0.6224\n",
            "Epoch 2/8\n",
            "18/18 [==============================] - 0s 12ms/step - loss: 0.6417 - val_loss: 0.6214\n",
            "Epoch 3/8\n",
            "18/18 [==============================] - 0s 13ms/step - loss: 0.6426 - val_loss: 0.6203\n",
            "Epoch 4/8\n",
            "18/18 [==============================] - 0s 13ms/step - loss: 0.6403 - val_loss: 0.6192\n",
            "Epoch 5/8\n",
            "18/18 [==============================] - 0s 13ms/step - loss: 0.6383 - val_loss: 0.6181\n",
            "Epoch 6/8\n",
            "18/18 [==============================] - 0s 12ms/step - loss: 0.6402 - val_loss: 0.6169\n",
            "Epoch 7/8\n",
            "18/18 [==============================] - 0s 12ms/step - loss: 0.6352 - val_loss: 0.6158\n",
            "Epoch 8/8\n",
            "18/18 [==============================] - 0s 13ms/step - loss: 0.6339 - val_loss: 0.6146\n",
            "18/18 [==============================] - 0s 4ms/step - loss: 0.6960\n",
            "Epoch 1/8\n",
            "18/18 [==============================] - 5s 64ms/step - loss: 0.6712 - val_loss: 0.5925\n",
            "Epoch 2/8\n",
            "18/18 [==============================] - 0s 11ms/step - loss: 0.6711 - val_loss: 0.5913\n",
            "Epoch 3/8\n",
            "18/18 [==============================] - 0s 12ms/step - loss: 0.6695 - val_loss: 0.5902\n",
            "Epoch 4/8\n",
            "18/18 [==============================] - 0s 13ms/step - loss: 0.6668 - val_loss: 0.5890\n",
            "Epoch 5/8\n",
            "18/18 [==============================] - 0s 13ms/step - loss: 0.6673 - val_loss: 0.5878\n",
            "Epoch 6/8\n",
            "18/18 [==============================] - 0s 12ms/step - loss: 0.6660 - val_loss: 0.5866\n",
            "Epoch 7/8\n",
            "18/18 [==============================] - 0s 12ms/step - loss: 0.6657 - val_loss: 0.5853\n",
            "Epoch 8/8\n",
            "18/18 [==============================] - 0s 13ms/step - loss: 0.6609 - val_loss: 0.5841\n",
            "18/18 [==============================] - 0s 3ms/step - loss: 0.6029\n",
            "Epoch 1/10\n",
            "18/18 [==============================] - 5s 65ms/step - loss: 0.3451 - val_loss: 0.0117\n",
            "Epoch 2/10\n",
            "18/18 [==============================] - 0s 13ms/step - loss: 0.0327 - val_loss: 0.0091\n",
            "Epoch 3/10\n",
            "18/18 [==============================] - 0s 13ms/step - loss: 0.0204 - val_loss: 0.0030\n",
            "Epoch 4/10\n",
            "18/18 [==============================] - 0s 12ms/step - loss: 0.0167 - val_loss: 0.0029\n",
            "Epoch 5/10\n",
            "18/18 [==============================] - 0s 14ms/step - loss: 0.0149 - val_loss: 0.0020\n",
            "Epoch 6/10\n",
            "18/18 [==============================] - 0s 13ms/step - loss: 0.0158 - val_loss: 0.0020\n",
            "Epoch 7/10\n",
            "18/18 [==============================] - 0s 14ms/step - loss: 0.0132 - val_loss: 0.0019\n",
            "Epoch 8/10\n",
            "18/18 [==============================] - 0s 13ms/step - loss: 0.0140 - val_loss: 0.0019\n",
            "Epoch 9/10\n",
            "18/18 [==============================] - 0s 12ms/step - loss: 0.0131 - val_loss: 0.0023\n",
            "Epoch 10/10\n",
            "18/18 [==============================] - 0s 14ms/step - loss: 0.0138 - val_loss: 0.0033\n",
            "18/18 [==============================] - 0s 3ms/step - loss: 0.0042\n",
            "Epoch 1/10\n",
            "18/18 [==============================] - 5s 65ms/step - loss: 0.2799 - val_loss: 0.0515\n",
            "Epoch 2/10\n",
            "18/18 [==============================] - 0s 13ms/step - loss: 0.0354 - val_loss: 0.0086\n",
            "Epoch 3/10\n",
            "18/18 [==============================] - 0s 13ms/step - loss: 0.0174 - val_loss: 0.0021\n",
            "Epoch 4/10\n",
            "18/18 [==============================] - 0s 13ms/step - loss: 0.0132 - val_loss: 0.0018\n",
            "Epoch 5/10\n",
            "18/18 [==============================] - 0s 13ms/step - loss: 0.0134 - val_loss: 0.0018\n",
            "Epoch 6/10\n",
            "18/18 [==============================] - 0s 14ms/step - loss: 0.0127 - val_loss: 0.0022\n",
            "Epoch 7/10\n",
            "18/18 [==============================] - 0s 13ms/step - loss: 0.0120 - val_loss: 0.0018\n",
            "Epoch 8/10\n",
            "18/18 [==============================] - 0s 14ms/step - loss: 0.0134 - val_loss: 0.0019\n",
            "Epoch 9/10\n",
            "18/18 [==============================] - 0s 13ms/step - loss: 0.0113 - val_loss: 0.0023\n",
            "Epoch 10/10\n",
            "18/18 [==============================] - 0s 14ms/step - loss: 0.0113 - val_loss: 0.0018\n",
            "18/18 [==============================] - 0s 3ms/step - loss: 0.0060\n",
            "Epoch 1/10\n",
            "18/18 [==============================] - 5s 64ms/step - loss: 0.7214 - val_loss: 0.6979\n",
            "Epoch 2/10\n",
            "18/18 [==============================] - 0s 12ms/step - loss: 0.7187 - val_loss: 0.6966\n",
            "Epoch 3/10\n",
            "18/18 [==============================] - 0s 13ms/step - loss: 0.7186 - val_loss: 0.6953\n",
            "Epoch 4/10\n",
            "18/18 [==============================] - 0s 13ms/step - loss: 0.7148 - val_loss: 0.6939\n",
            "Epoch 5/10\n",
            "18/18 [==============================] - 0s 12ms/step - loss: 0.7161 - val_loss: 0.6925\n",
            "Epoch 6/10\n",
            "18/18 [==============================] - 0s 13ms/step - loss: 0.7175 - val_loss: 0.6911\n",
            "Epoch 7/10\n",
            "18/18 [==============================] - 0s 13ms/step - loss: 0.7129 - val_loss: 0.6897\n",
            "Epoch 8/10\n",
            "18/18 [==============================] - 0s 14ms/step - loss: 0.7100 - val_loss: 0.6883\n",
            "Epoch 9/10\n",
            "18/18 [==============================] - 0s 13ms/step - loss: 0.7094 - val_loss: 0.6869\n",
            "Epoch 10/10\n",
            "18/18 [==============================] - 0s 16ms/step - loss: 0.7071 - val_loss: 0.6854\n",
            "18/18 [==============================] - 0s 3ms/step - loss: 0.7756\n",
            "Epoch 1/10\n",
            "18/18 [==============================] - 5s 89ms/step - loss: 0.8454 - val_loss: 0.7469\n",
            "Epoch 2/10\n",
            "18/18 [==============================] - 0s 13ms/step - loss: 0.8478 - val_loss: 0.7455\n",
            "Epoch 3/10\n",
            "18/18 [==============================] - 0s 12ms/step - loss: 0.8435 - val_loss: 0.7440\n",
            "Epoch 4/10\n",
            "18/18 [==============================] - 0s 15ms/step - loss: 0.8398 - val_loss: 0.7425\n",
            "Epoch 5/10\n",
            "18/18 [==============================] - 0s 14ms/step - loss: 0.8411 - val_loss: 0.7410\n",
            "Epoch 6/10\n",
            "18/18 [==============================] - 0s 13ms/step - loss: 0.8360 - val_loss: 0.7395\n",
            "Epoch 7/10\n",
            "18/18 [==============================] - 0s 15ms/step - loss: 0.8373 - val_loss: 0.7379\n",
            "Epoch 8/10\n",
            "18/18 [==============================] - 0s 13ms/step - loss: 0.8346 - val_loss: 0.7364\n",
            "Epoch 9/10\n",
            "18/18 [==============================] - 0s 13ms/step - loss: 0.8327 - val_loss: 0.7348\n",
            "Epoch 10/10\n",
            "18/18 [==============================] - 0s 13ms/step - loss: 0.8308 - val_loss: 0.7332\n",
            "18/18 [==============================] - 0s 4ms/step - loss: 0.7556\n",
            "Epoch 1/10\n",
            "43/43 [==============================] - 5s 32ms/step - loss: 0.1577 - val_loss: 0.0046\n",
            "Epoch 2/10\n",
            "43/43 [==============================] - 0s 11ms/step - loss: 0.0165 - val_loss: 0.0024\n",
            "Epoch 3/10\n",
            "43/43 [==============================] - 0s 11ms/step - loss: 0.0137 - val_loss: 0.0017\n",
            "Epoch 4/10\n",
            "43/43 [==============================] - 0s 11ms/step - loss: 0.0126 - val_loss: 0.0017\n",
            "Epoch 5/10\n",
            "43/43 [==============================] - 0s 11ms/step - loss: 0.0118 - val_loss: 0.0023\n",
            "Epoch 6/10\n",
            "43/43 [==============================] - 0s 11ms/step - loss: 0.0118 - val_loss: 0.0019\n",
            "Epoch 7/10\n",
            "43/43 [==============================] - 0s 11ms/step - loss: 0.0114 - val_loss: 0.0022\n",
            "Epoch 8/10\n",
            "43/43 [==============================] - 1s 12ms/step - loss: 0.0112 - val_loss: 0.0023\n",
            "Epoch 9/10\n",
            "43/43 [==============================] - 1s 12ms/step - loss: 0.0101 - val_loss: 0.0018\n",
            "Epoch 10/10\n",
            "43/43 [==============================] - 0s 11ms/step - loss: 0.0115 - val_loss: 0.0017\n"
          ]
        }
      ]
    },
    {
      "cell_type": "code",
      "source": [
        "grid_search.best_params_"
      ],
      "metadata": {
        "colab": {
          "base_uri": "https://localhost:8080/"
        },
        "id": "LQzAp-1AIS-J",
        "outputId": "cf23aa3d-37dc-4d11-8835-b36fefd90db2"
      },
      "execution_count": null,
      "outputs": [
        {
          "output_type": "execute_result",
          "data": {
            "text/plain": [
              "{'batch_size': 16, 'epochs': 10, 'optimizer': 'adam'}"
            ]
          },
          "metadata": {},
          "execution_count": 31
        }
      ]
    },
    {
      "cell_type": "code",
      "source": [
        "my_model=grid_search.best_estimator_.model"
      ],
      "metadata": {
        "id": "s8iHeIVqIWZZ"
      },
      "execution_count": null,
      "outputs": []
    },
    {
      "cell_type": "code",
      "source": [
        "my_model"
      ],
      "metadata": {
        "colab": {
          "base_uri": "https://localhost:8080/"
        },
        "id": "mJcPrL1QIYhy",
        "outputId": "4736a472-9790-46ff-8eae-4e3325d90564"
      },
      "execution_count": null,
      "outputs": [
        {
          "output_type": "execute_result",
          "data": {
            "text/plain": [
              "<keras.engine.sequential.Sequential at 0x7fcccab37a90>"
            ]
          },
          "metadata": {},
          "execution_count": 33
        }
      ]
    },
    {
      "cell_type": "code",
      "source": [
        "prediction=my_model.predict(testX)"
      ],
      "metadata": {
        "id": "L_tJ8v0WIa6L"
      },
      "execution_count": null,
      "outputs": []
    },
    {
      "cell_type": "code",
      "source": [
        "print(\"prediction\\n\", prediction)\n",
        "print(\"\\nPrediction Shape-\",prediction.shape)"
      ],
      "metadata": {
        "colab": {
          "base_uri": "https://localhost:8080/"
        },
        "id": "jYogP__sId2T",
        "outputId": "c38c2073-7646-48cb-d448-f6d7cba78485"
      },
      "execution_count": null,
      "outputs": [
        {
          "output_type": "stream",
          "name": "stdout",
          "text": [
            "prediction\n",
            " [[0.83242923 0.83529574]\n",
            " [0.83198607 0.8354429 ]\n",
            " [0.83067536 0.83492476]\n",
            " [0.83089864 0.8352437 ]\n",
            " [0.8371484  0.8418595 ]\n",
            " [0.8405603  0.8435399 ]\n",
            " [0.84093845 0.84354657]\n",
            " [0.8412101  0.84362775]\n",
            " [0.84257627 0.8456114 ]\n",
            " [0.842003   0.8452156 ]\n",
            " [0.84032    0.84328145]\n",
            " [0.83753264 0.84055954]\n",
            " [0.8367754  0.8399798 ]\n",
            " [0.8335749  0.8373469 ]\n",
            " [0.8303333  0.8338019 ]\n",
            " [0.83083403 0.83390814]\n",
            " [0.83773303 0.84047943]\n",
            " [0.8392499  0.8418847 ]\n",
            " [0.83608174 0.8392015 ]\n",
            " [0.8353572  0.8388453 ]\n",
            " [0.83483505 0.83775264]\n",
            " [0.834499   0.8366864 ]\n",
            " [0.8339764  0.8362424 ]\n",
            " [0.83480716 0.83762825]\n",
            " [0.83531636 0.83854204]\n",
            " [0.8345486  0.8376283 ]\n",
            " [0.8343229  0.83689433]\n",
            " [0.83450806 0.83727425]\n",
            " [0.8344278  0.8371708 ]\n",
            " [0.8335142  0.83648264]\n",
            " [0.83098936 0.83430153]\n",
            " [0.8301933  0.83347934]\n",
            " [0.8290293  0.8319182 ]\n",
            " [0.82724774 0.8298402 ]\n",
            " [0.82541895 0.82812315]\n",
            " [0.8256315  0.828651  ]\n",
            " [0.8242376  0.8270499 ]\n",
            " [0.8230643  0.8249809 ]\n",
            " [0.81892586 0.8202071 ]\n",
            " [0.8156172  0.81665313]\n",
            " [0.8132962  0.81499356]\n",
            " [0.8105599  0.81319827]\n",
            " [0.8079586  0.8121957 ]\n",
            " [0.8116472  0.8163668 ]\n",
            " [0.8177097  0.8218995 ]\n",
            " [0.8253679  0.8285224 ]\n",
            " [0.8253138  0.82766074]\n",
            " [0.8185978  0.8208582 ]\n",
            " [0.81294715 0.8149483 ]\n",
            " [0.80773616 0.80901796]\n",
            " [0.79862857 0.79859084]\n",
            " [0.78969944 0.7892478 ]\n",
            " [0.78187567 0.7829774 ]\n",
            " [0.77775335 0.7808309 ]\n",
            " [0.778836   0.78296083]\n",
            " [0.77511895 0.7796278 ]\n",
            " [0.7799537  0.7839201 ]\n",
            " [0.7890331  0.79175526]\n",
            " [0.7934221  0.7957484 ]\n",
            " [0.7959522  0.79900354]\n",
            " [0.79757273 0.8018699 ]\n",
            " [0.7939143  0.7949856 ]\n",
            " [0.790154   0.7879674 ]\n",
            " [0.77609557 0.77258027]\n",
            " [0.75959647 0.75673336]\n",
            " [0.74561524 0.74492806]\n",
            " [0.73249954 0.7345775 ]\n",
            " [0.7230494  0.72821194]\n",
            " [0.7436235  0.7472057 ]\n",
            " [0.7518623  0.75521797]\n",
            " [0.7596139  0.76325035]\n",
            " [0.76668537 0.7711211 ]\n",
            " [0.7743796  0.7794663 ]\n",
            " [0.7835094  0.78775454]\n",
            " [0.78833926 0.79122394]\n",
            " [0.7879818  0.7905949 ]\n",
            " [0.78713024 0.78825337]\n",
            " [0.7792672  0.7800325 ]\n",
            " [0.77338517 0.7740379 ]\n",
            " [0.7664287  0.7674585 ]\n",
            " [0.76369226 0.76510626]\n",
            " [0.7656924  0.76779   ]\n",
            " [0.7664032  0.770736  ]\n",
            " [0.77599645 0.7811927 ]\n",
            " [0.7866492  0.7916726 ]\n",
            " [0.7958349  0.7998867 ]\n",
            " [0.8001567  0.8030203 ]\n",
            " [0.80743456 0.8087332 ]\n",
            " [0.80799276 0.80937046]\n",
            " [0.80485916 0.8073792 ]\n",
            " [0.7999831  0.80305463]\n",
            " [0.7942261  0.7964678 ]\n",
            " [0.7868859  0.7881654 ]\n",
            " [0.7790145  0.78001964]\n",
            " [0.77155966 0.7722116 ]\n",
            " [0.762838   0.7637411 ]\n",
            " [0.75270057 0.75380725]\n",
            " [0.7433977  0.7441415 ]\n",
            " [0.7437035  0.7437969 ]\n",
            " [0.74410224 0.7457122 ]\n",
            " [0.747147   0.7518433 ]\n",
            " [0.7520064  0.75832766]\n",
            " [0.76320827 0.769187  ]\n",
            " [0.77743566 0.7814633 ]\n",
            " [0.78876805 0.79044306]\n",
            " [0.7891812  0.7898771 ]\n",
            " [0.78635406 0.7873791 ]\n",
            " [0.78370774 0.78554755]\n",
            " [0.781708   0.7836441 ]\n",
            " [0.7796289  0.78135353]\n",
            " [0.7773354  0.77956414]\n",
            " [0.7768899  0.78022677]\n",
            " [0.7825995  0.7868864 ]\n",
            " [0.7880947  0.7922835 ]\n",
            " [0.7908139  0.79516125]\n",
            " [0.7940118  0.79797477]\n",
            " [0.79612565 0.7989583 ]\n",
            " [0.79412687 0.79643124]\n",
            " [0.79133356 0.7931947 ]\n",
            " [0.78749883 0.7890067 ]\n",
            " [0.78920674 0.79024637]\n",
            " [0.78649664 0.7882914 ]\n",
            " [0.7840338  0.785513  ]\n",
            " [0.7832541  0.7851683 ]\n",
            " [0.7846662  0.7874771 ]\n",
            " [0.78832746 0.79223126]\n",
            " [0.79314315 0.7971088 ]\n",
            " [0.8013209  0.8058354 ]\n",
            " [0.80778575 0.81211364]\n",
            " [0.81410724 0.81704015]\n",
            " [0.8134689  0.81618583]\n",
            " [0.81197834 0.81441766]\n",
            " [0.8109629  0.81358653]\n",
            " [0.80824375 0.809516  ]\n",
            " [0.8037032  0.80445796]\n",
            " [0.79892063 0.7994084 ]\n",
            " [0.7944157  0.7952922 ]\n",
            " [0.78954077 0.7915029 ]\n",
            " [0.7878398  0.79072493]\n",
            " [0.7866968  0.79059845]\n",
            " [0.79545414 0.79934293]\n",
            " [0.79747766 0.8018481 ]\n",
            " [0.8050993  0.80911434]\n",
            " [0.81104326 0.81517434]\n",
            " [0.81510746 0.8186    ]\n",
            " [0.81459904 0.8173348 ]\n",
            " [0.8136288  0.8151391 ]\n",
            " [0.8111962  0.8128868 ]\n",
            " [0.8093845  0.81084627]\n",
            " [0.80727476 0.8094489 ]\n",
            " [0.803555   0.8059989 ]\n",
            " [0.8007058  0.80328494]\n",
            " [0.8038793  0.8069138 ]\n",
            " [0.8057511  0.8085671 ]\n",
            " [0.8050481  0.8083181 ]\n",
            " [0.8057114  0.80878943]\n",
            " [0.8050461  0.8077359 ]\n",
            " [0.80779517 0.810662  ]\n",
            " [0.8098279  0.8128925 ]\n",
            " [0.81225574 0.8165479 ]\n",
            " [0.81623125 0.82129496]\n",
            " [0.8214804  0.8263877 ]\n",
            " [0.82547104 0.8291498 ]\n",
            " [0.8277708  0.82977235]\n",
            " [0.8267318  0.82853097]]\n",
            "\n",
            "Prediction Shape- (165, 2)\n"
          ]
        }
      ]
    },
    {
      "cell_type": "code",
      "source": [
        "prediction.shape"
      ],
      "metadata": {
        "colab": {
          "base_uri": "https://localhost:8080/"
        },
        "id": "2gLKul_DIhJh",
        "outputId": "741b52b6-146b-4cd3-e468-36f095d58196"
      },
      "execution_count": null,
      "outputs": [
        {
          "output_type": "execute_result",
          "data": {
            "text/plain": [
              "(165, 2)"
            ]
          },
          "metadata": {},
          "execution_count": 36
        }
      ]
    },
    {
      "cell_type": "code",
      "source": [
        "scaler.inverse_transform(prediction)"
      ],
      "metadata": {
        "colab": {
          "base_uri": "https://localhost:8080/"
        },
        "id": "6GZc65vRIkAJ",
        "outputId": "d492b741-2f76-4f5a-f0ac-c4b8ba6ab2b3"
      },
      "execution_count": null,
      "outputs": [
        {
          "output_type": "execute_result",
          "data": {
            "text/plain": [
              "array([[1485.8206  ,   19.54121 ],\n",
              "       [1484.1804  ,   19.5443  ],\n",
              "       [1479.3295  ,   19.53342 ],\n",
              "       [1480.1558  ,   19.540117],\n",
              "       [1503.2863  ,   19.67905 ],\n",
              "       [1515.9137  ,   19.714338],\n",
              "       [1517.3131  ,   19.714478],\n",
              "       [1518.3186  ,   19.716183],\n",
              "       [1523.3748  ,   19.75784 ],\n",
              "       [1521.253   ,   19.749527],\n",
              "       [1515.0243  ,   19.70891 ],\n",
              "       [1504.7083  ,   19.65175 ],\n",
              "       [1501.9058  ,   19.639576],\n",
              "       [1490.0607  ,   19.584286],\n",
              "       [1478.0635  ,   19.50984 ],\n",
              "       [1479.9167  ,   19.512072],\n",
              "       [1505.45    ,   19.650068],\n",
              "       [1511.0638  ,   19.679579],\n",
              "       [1499.3385  ,   19.623232],\n",
              "       [1496.6569  ,   19.615751],\n",
              "       [1494.7245  ,   19.592806],\n",
              "       [1493.4807  ,   19.570414],\n",
              "       [1491.5465  ,   19.56109 ],\n",
              "       [1494.6212  ,   19.590193],\n",
              "       [1496.5057  ,   19.609383],\n",
              "       [1493.6643  ,   19.590195],\n",
              "       [1492.8291  ,   19.574781],\n",
              "       [1493.5143  ,   19.58276 ],\n",
              "       [1493.2172  ,   19.580585],\n",
              "       [1489.836   ,   19.566135],\n",
              "       [1480.4916  ,   19.520332],\n",
              "       [1477.5453  ,   19.503067],\n",
              "       [1473.2374  ,   19.470282],\n",
              "       [1466.6438  ,   19.426643],\n",
              "       [1459.8755  ,   19.390587],\n",
              "       [1460.6621  ,   19.40167 ],\n",
              "       [1455.5033  ,   19.368048],\n",
              "       [1451.161   ,   19.324598],\n",
              "       [1435.8446  ,   19.22435 ],\n",
              "       [1423.5992  ,   19.149715],\n",
              "       [1415.0092  ,   19.114864],\n",
              "       [1404.8822  ,   19.077164],\n",
              "       [1395.2548  ,   19.05611 ],\n",
              "       [1408.9061  ,   19.143703],\n",
              "       [1431.3435  ,   19.25989 ],\n",
              "       [1459.6866  ,   19.39897 ],\n",
              "       [1459.4863  ,   19.380875],\n",
              "       [1434.6304  ,   19.238022],\n",
              "       [1413.7174  ,   19.113914],\n",
              "       [1394.4315  ,   18.989376],\n",
              "       [1360.7242  ,   18.770407],\n",
              "       [1327.6776  ,   18.574203],\n",
              "       [1298.7218  ,   18.442526],\n",
              "       [1283.4651  ,   18.39745 ],\n",
              "       [1287.472   ,   18.442177],\n",
              "       [1273.7152  ,   18.372183],\n",
              "       [1291.6086  ,   18.462322],\n",
              "       [1325.2115  ,   18.62686 ],\n",
              "       [1341.4552  ,   18.710716],\n",
              "       [1350.8191  ,   18.779074],\n",
              "       [1356.8167  ,   18.839268],\n",
              "       [1343.2769  ,   18.694696],\n",
              "       [1329.3599  ,   18.547316],\n",
              "       [1277.3296  ,   18.224186],\n",
              "       [1216.2665  ,   17.891401],\n",
              "       [1164.522   ,   17.64349 ],\n",
              "       [1115.9807  ,   17.426126],\n",
              "       [1081.0057  ,   17.29245 ],\n",
              "       [1157.1505  ,   17.691319],\n",
              "       [1187.6422  ,   17.859577],\n",
              "       [1216.3309  ,   18.028257],\n",
              "       [1242.5024  ,   18.193542],\n",
              "       [1270.9789  ,   18.368792],\n",
              "       [1304.7682  ,   18.542845],\n",
              "       [1322.6436  ,   18.615704],\n",
              "       [1321.3206  ,   18.602491],\n",
              "       [1318.169   ,   18.55332 ],\n",
              "       [1289.0679  ,   18.380682],\n",
              "       [1267.2985  ,   18.254795],\n",
              "       [1241.5526  ,   18.116629],\n",
              "       [1231.425   ,   18.067232],\n",
              "       [1238.8275  ,   18.12359 ],\n",
              "       [1241.4581  ,   18.185455],\n",
              "       [1276.9628  ,   18.405046],\n",
              "       [1316.3888  ,   18.625124],\n",
              "       [1350.3849  ,   18.79762 ],\n",
              "       [1366.3799  ,   18.863426],\n",
              "       [1393.3153  ,   18.983398],\n",
              "       [1395.3811  ,   18.99678 ],\n",
              "       [1383.7837  ,   18.954964],\n",
              "       [1365.7373  ,   18.864147],\n",
              "       [1344.4308  ,   18.725822],\n",
              "       [1317.2648  ,   18.551474],\n",
              "       [1288.1327  ,   18.380413],\n",
              "       [1260.5422  ,   18.216444],\n",
              "       [1228.2634  ,   18.038563],\n",
              "       [1190.7448  ,   17.829952],\n",
              "       [1156.3148  ,   17.626972],\n",
              "       [1157.4465  ,   17.619734],\n",
              "       [1158.9224  ,   17.659956],\n",
              "       [1170.191   ,   17.788708],\n",
              "       [1188.1757  ,   17.924881],\n",
              "       [1229.6338  ,   18.152925],\n",
              "       [1282.2893  ,   18.41073 ],\n",
              "       [1324.2305  ,   18.599304],\n",
              "       [1325.7595  ,   18.58742 ],\n",
              "       [1315.2964  ,   18.53496 ],\n",
              "       [1305.5023  ,   18.496498],\n",
              "       [1298.1013  ,   18.456526],\n",
              "       [1290.4064  ,   18.408424],\n",
              "       [1281.9183  ,   18.370848],\n",
              "       [1280.2695  ,   18.384762],\n",
              "       [1301.4008  ,   18.524614],\n",
              "       [1321.7384  ,   18.637953],\n",
              "       [1331.8022  ,   18.698385],\n",
              "       [1343.6376  ,   18.75747 ],\n",
              "       [1351.4609  ,   18.778124],\n",
              "       [1344.0635  ,   18.725056],\n",
              "       [1333.7255  ,   18.65709 ],\n",
              "       [1319.5331  ,   18.569141],\n",
              "       [1325.8541  ,   18.595173],\n",
              "       [1315.824   ,   18.55412 ],\n",
              "       [1306.709   ,   18.495773],\n",
              "       [1303.8234  ,   18.488533],\n",
              "       [1309.0494  ,   18.537018],\n",
              "       [1322.5999  ,   18.636856],\n",
              "       [1340.4227  ,   18.739285],\n",
              "       [1370.6886  ,   18.922544],\n",
              "       [1394.615   ,   19.054386],\n",
              "       [1418.0109  ,   19.157843],\n",
              "       [1415.6482  ,   19.139902],\n",
              "       [1410.1318  ,   19.10277 ],\n",
              "       [1406.3737  ,   19.085318],\n",
              "       [1396.31    ,   18.999836],\n",
              "       [1379.5055  ,   18.893618],\n",
              "       [1361.8052  ,   18.787577],\n",
              "       [1345.1324  ,   18.701136],\n",
              "       [1327.0903  ,   18.621561],\n",
              "       [1320.7949  ,   18.605223],\n",
              "       [1316.5648  ,   18.602568],\n",
              "       [1348.9757  ,   18.786201],\n",
              "       [1356.4647  ,   18.83881 ],\n",
              "       [1384.6725  ,   18.991402],\n",
              "       [1406.671   ,   19.118662],\n",
              "       [1421.7126  ,   19.1906  ],\n",
              "       [1419.8309  ,   19.16403 ],\n",
              "       [1416.2401  ,   19.117922],\n",
              "       [1407.237   ,   19.070621],\n",
              "       [1400.5321  ,   19.027771],\n",
              "       [1392.7239  ,   18.998426],\n",
              "       [1378.957   ,   18.925978],\n",
              "       [1368.4121  ,   18.868984],\n",
              "       [1380.1573  ,   18.94519 ],\n",
              "       [1387.0847  ,   18.97991 ],\n",
              "       [1384.483   ,   18.97468 ],\n",
              "       [1386.9377  ,   18.984577],\n",
              "       [1384.4755  ,   18.962454],\n",
              "       [1394.6499  ,   19.023901],\n",
              "       [1402.1731  ,   19.070742],\n",
              "       [1411.1584  ,   19.147505],\n",
              "       [1425.8718  ,   19.247194],\n",
              "       [1445.2988  ,   19.354141],\n",
              "       [1460.0682  ,   19.412146],\n",
              "       [1468.5798  ,   19.425219],\n",
              "       [1464.7344  ,   19.39915 ]], dtype=float32)"
            ]
          },
          "metadata": {},
          "execution_count": 37
        }
      ]
    },
    {
      "cell_type": "code",
      "source": [
        "prediction_copies_array = np.repeat(prediction,1, axis=-1)"
      ],
      "metadata": {
        "id": "kMwHjU_3IpBv"
      },
      "execution_count": null,
      "outputs": []
    },
    {
      "cell_type": "code",
      "source": [
        "prediction_copies_array.shape"
      ],
      "metadata": {
        "colab": {
          "base_uri": "https://localhost:8080/"
        },
        "id": "rTU9PBR4IqMn",
        "outputId": "9bf895cb-df54-4f80-bcea-ab13412cb2b7"
      },
      "execution_count": null,
      "outputs": [
        {
          "output_type": "execute_result",
          "data": {
            "text/plain": [
              "(165, 2)"
            ]
          },
          "metadata": {},
          "execution_count": 39
        }
      ]
    },
    {
      "cell_type": "code",
      "source": [
        "prediction_copies_array"
      ],
      "metadata": {
        "colab": {
          "base_uri": "https://localhost:8080/"
        },
        "id": "Q9n33E5SIsNk",
        "outputId": "1bac0a2d-c038-421c-8aab-6d54ea235567"
      },
      "execution_count": null,
      "outputs": [
        {
          "output_type": "execute_result",
          "data": {
            "text/plain": [
              "array([[0.83242923, 0.83529574],\n",
              "       [0.83198607, 0.8354429 ],\n",
              "       [0.83067536, 0.83492476],\n",
              "       [0.83089864, 0.8352437 ],\n",
              "       [0.8371484 , 0.8418595 ],\n",
              "       [0.8405603 , 0.8435399 ],\n",
              "       [0.84093845, 0.84354657],\n",
              "       [0.8412101 , 0.84362775],\n",
              "       [0.84257627, 0.8456114 ],\n",
              "       [0.842003  , 0.8452156 ],\n",
              "       [0.84032   , 0.84328145],\n",
              "       [0.83753264, 0.84055954],\n",
              "       [0.8367754 , 0.8399798 ],\n",
              "       [0.8335749 , 0.8373469 ],\n",
              "       [0.8303333 , 0.8338019 ],\n",
              "       [0.83083403, 0.83390814],\n",
              "       [0.83773303, 0.84047943],\n",
              "       [0.8392499 , 0.8418847 ],\n",
              "       [0.83608174, 0.8392015 ],\n",
              "       [0.8353572 , 0.8388453 ],\n",
              "       [0.83483505, 0.83775264],\n",
              "       [0.834499  , 0.8366864 ],\n",
              "       [0.8339764 , 0.8362424 ],\n",
              "       [0.83480716, 0.83762825],\n",
              "       [0.83531636, 0.83854204],\n",
              "       [0.8345486 , 0.8376283 ],\n",
              "       [0.8343229 , 0.83689433],\n",
              "       [0.83450806, 0.83727425],\n",
              "       [0.8344278 , 0.8371708 ],\n",
              "       [0.8335142 , 0.83648264],\n",
              "       [0.83098936, 0.83430153],\n",
              "       [0.8301933 , 0.83347934],\n",
              "       [0.8290293 , 0.8319182 ],\n",
              "       [0.82724774, 0.8298402 ],\n",
              "       [0.82541895, 0.82812315],\n",
              "       [0.8256315 , 0.828651  ],\n",
              "       [0.8242376 , 0.8270499 ],\n",
              "       [0.8230643 , 0.8249809 ],\n",
              "       [0.81892586, 0.8202071 ],\n",
              "       [0.8156172 , 0.81665313],\n",
              "       [0.8132962 , 0.81499356],\n",
              "       [0.8105599 , 0.81319827],\n",
              "       [0.8079586 , 0.8121957 ],\n",
              "       [0.8116472 , 0.8163668 ],\n",
              "       [0.8177097 , 0.8218995 ],\n",
              "       [0.8253679 , 0.8285224 ],\n",
              "       [0.8253138 , 0.82766074],\n",
              "       [0.8185978 , 0.8208582 ],\n",
              "       [0.81294715, 0.8149483 ],\n",
              "       [0.80773616, 0.80901796],\n",
              "       [0.79862857, 0.79859084],\n",
              "       [0.78969944, 0.7892478 ],\n",
              "       [0.78187567, 0.7829774 ],\n",
              "       [0.77775335, 0.7808309 ],\n",
              "       [0.778836  , 0.78296083],\n",
              "       [0.77511895, 0.7796278 ],\n",
              "       [0.7799537 , 0.7839201 ],\n",
              "       [0.7890331 , 0.79175526],\n",
              "       [0.7934221 , 0.7957484 ],\n",
              "       [0.7959522 , 0.79900354],\n",
              "       [0.79757273, 0.8018699 ],\n",
              "       [0.7939143 , 0.7949856 ],\n",
              "       [0.790154  , 0.7879674 ],\n",
              "       [0.77609557, 0.77258027],\n",
              "       [0.75959647, 0.75673336],\n",
              "       [0.74561524, 0.74492806],\n",
              "       [0.73249954, 0.7345775 ],\n",
              "       [0.7230494 , 0.72821194],\n",
              "       [0.7436235 , 0.7472057 ],\n",
              "       [0.7518623 , 0.75521797],\n",
              "       [0.7596139 , 0.76325035],\n",
              "       [0.76668537, 0.7711211 ],\n",
              "       [0.7743796 , 0.7794663 ],\n",
              "       [0.7835094 , 0.78775454],\n",
              "       [0.78833926, 0.79122394],\n",
              "       [0.7879818 , 0.7905949 ],\n",
              "       [0.78713024, 0.78825337],\n",
              "       [0.7792672 , 0.7800325 ],\n",
              "       [0.77338517, 0.7740379 ],\n",
              "       [0.7664287 , 0.7674585 ],\n",
              "       [0.76369226, 0.76510626],\n",
              "       [0.7656924 , 0.76779   ],\n",
              "       [0.7664032 , 0.770736  ],\n",
              "       [0.77599645, 0.7811927 ],\n",
              "       [0.7866492 , 0.7916726 ],\n",
              "       [0.7958349 , 0.7998867 ],\n",
              "       [0.8001567 , 0.8030203 ],\n",
              "       [0.80743456, 0.8087332 ],\n",
              "       [0.80799276, 0.80937046],\n",
              "       [0.80485916, 0.8073792 ],\n",
              "       [0.7999831 , 0.80305463],\n",
              "       [0.7942261 , 0.7964678 ],\n",
              "       [0.7868859 , 0.7881654 ],\n",
              "       [0.7790145 , 0.78001964],\n",
              "       [0.77155966, 0.7722116 ],\n",
              "       [0.762838  , 0.7637411 ],\n",
              "       [0.75270057, 0.75380725],\n",
              "       [0.7433977 , 0.7441415 ],\n",
              "       [0.7437035 , 0.7437969 ],\n",
              "       [0.74410224, 0.7457122 ],\n",
              "       [0.747147  , 0.7518433 ],\n",
              "       [0.7520064 , 0.75832766],\n",
              "       [0.76320827, 0.769187  ],\n",
              "       [0.77743566, 0.7814633 ],\n",
              "       [0.78876805, 0.79044306],\n",
              "       [0.7891812 , 0.7898771 ],\n",
              "       [0.78635406, 0.7873791 ],\n",
              "       [0.78370774, 0.78554755],\n",
              "       [0.781708  , 0.7836441 ],\n",
              "       [0.7796289 , 0.78135353],\n",
              "       [0.7773354 , 0.77956414],\n",
              "       [0.7768899 , 0.78022677],\n",
              "       [0.7825995 , 0.7868864 ],\n",
              "       [0.7880947 , 0.7922835 ],\n",
              "       [0.7908139 , 0.79516125],\n",
              "       [0.7940118 , 0.79797477],\n",
              "       [0.79612565, 0.7989583 ],\n",
              "       [0.79412687, 0.79643124],\n",
              "       [0.79133356, 0.7931947 ],\n",
              "       [0.78749883, 0.7890067 ],\n",
              "       [0.78920674, 0.79024637],\n",
              "       [0.78649664, 0.7882914 ],\n",
              "       [0.7840338 , 0.785513  ],\n",
              "       [0.7832541 , 0.7851683 ],\n",
              "       [0.7846662 , 0.7874771 ],\n",
              "       [0.78832746, 0.79223126],\n",
              "       [0.79314315, 0.7971088 ],\n",
              "       [0.8013209 , 0.8058354 ],\n",
              "       [0.80778575, 0.81211364],\n",
              "       [0.81410724, 0.81704015],\n",
              "       [0.8134689 , 0.81618583],\n",
              "       [0.81197834, 0.81441766],\n",
              "       [0.8109629 , 0.81358653],\n",
              "       [0.80824375, 0.809516  ],\n",
              "       [0.8037032 , 0.80445796],\n",
              "       [0.79892063, 0.7994084 ],\n",
              "       [0.7944157 , 0.7952922 ],\n",
              "       [0.78954077, 0.7915029 ],\n",
              "       [0.7878398 , 0.79072493],\n",
              "       [0.7866968 , 0.79059845],\n",
              "       [0.79545414, 0.79934293],\n",
              "       [0.79747766, 0.8018481 ],\n",
              "       [0.8050993 , 0.80911434],\n",
              "       [0.81104326, 0.81517434],\n",
              "       [0.81510746, 0.8186    ],\n",
              "       [0.81459904, 0.8173348 ],\n",
              "       [0.8136288 , 0.8151391 ],\n",
              "       [0.8111962 , 0.8128868 ],\n",
              "       [0.8093845 , 0.81084627],\n",
              "       [0.80727476, 0.8094489 ],\n",
              "       [0.803555  , 0.8059989 ],\n",
              "       [0.8007058 , 0.80328494],\n",
              "       [0.8038793 , 0.8069138 ],\n",
              "       [0.8057511 , 0.8085671 ],\n",
              "       [0.8050481 , 0.8083181 ],\n",
              "       [0.8057114 , 0.80878943],\n",
              "       [0.8050461 , 0.8077359 ],\n",
              "       [0.80779517, 0.810662  ],\n",
              "       [0.8098279 , 0.8128925 ],\n",
              "       [0.81225574, 0.8165479 ],\n",
              "       [0.81623125, 0.82129496],\n",
              "       [0.8214804 , 0.8263877 ],\n",
              "       [0.82547104, 0.8291498 ],\n",
              "       [0.8277708 , 0.82977235],\n",
              "       [0.8267318 , 0.82853097]], dtype=float32)"
            ]
          },
          "metadata": {},
          "execution_count": 41
        }
      ]
    },
    {
      "cell_type": "code",
      "source": [
        "pred=scaler.inverse_transform(np.reshape(prediction_copies_array,(len(prediction),2)))[:,0]"
      ],
      "metadata": {
        "id": "JT6CEeGVIvhg"
      },
      "execution_count": null,
      "outputs": []
    },
    {
      "cell_type": "code",
      "source": [
        "pred"
      ],
      "metadata": {
        "colab": {
          "base_uri": "https://localhost:8080/"
        },
        "id": "DiFtdrXnMcJa",
        "outputId": "680d12c7-84e3-432c-fbc8-409ec4c895fd"
      },
      "execution_count": null,
      "outputs": [
        {
          "output_type": "execute_result",
          "data": {
            "text/plain": [
              "array([1485.8206, 1484.1804, 1479.3295, 1480.1558, 1503.2863, 1515.9137,\n",
              "       1517.3131, 1518.3186, 1523.3748, 1521.253 , 1515.0243, 1504.7083,\n",
              "       1501.9058, 1490.0607, 1478.0635, 1479.9167, 1505.45  , 1511.0638,\n",
              "       1499.3385, 1496.6569, 1494.7245, 1493.4807, 1491.5465, 1494.6212,\n",
              "       1496.5057, 1493.6643, 1492.8291, 1493.5143, 1493.2172, 1489.836 ,\n",
              "       1480.4916, 1477.5453, 1473.2374, 1466.6438, 1459.8755, 1460.6621,\n",
              "       1455.5033, 1451.161 , 1435.8446, 1423.5992, 1415.0092, 1404.8822,\n",
              "       1395.2548, 1408.9061, 1431.3435, 1459.6866, 1459.4863, 1434.6304,\n",
              "       1413.7174, 1394.4315, 1360.7242, 1327.6776, 1298.7218, 1283.4651,\n",
              "       1287.472 , 1273.7152, 1291.6086, 1325.2115, 1341.4552, 1350.8191,\n",
              "       1356.8167, 1343.2769, 1329.3599, 1277.3296, 1216.2665, 1164.522 ,\n",
              "       1115.9807, 1081.0057, 1157.1505, 1187.6422, 1216.3309, 1242.5024,\n",
              "       1270.9789, 1304.7682, 1322.6436, 1321.3206, 1318.169 , 1289.0679,\n",
              "       1267.2985, 1241.5526, 1231.425 , 1238.8275, 1241.4581, 1276.9628,\n",
              "       1316.3888, 1350.3849, 1366.3799, 1393.3153, 1395.3811, 1383.7837,\n",
              "       1365.7373, 1344.4308, 1317.2648, 1288.1327, 1260.5422, 1228.2634,\n",
              "       1190.7448, 1156.3148, 1157.4465, 1158.9224, 1170.191 , 1188.1757,\n",
              "       1229.6338, 1282.2893, 1324.2305, 1325.7595, 1315.2964, 1305.5023,\n",
              "       1298.1013, 1290.4064, 1281.9183, 1280.2695, 1301.4008, 1321.7384,\n",
              "       1331.8022, 1343.6376, 1351.4609, 1344.0635, 1333.7255, 1319.5331,\n",
              "       1325.8541, 1315.824 , 1306.709 , 1303.8234, 1309.0494, 1322.5999,\n",
              "       1340.4227, 1370.6886, 1394.615 , 1418.0109, 1415.6482, 1410.1318,\n",
              "       1406.3737, 1396.31  , 1379.5055, 1361.8052, 1345.1324, 1327.0903,\n",
              "       1320.7949, 1316.5648, 1348.9757, 1356.4647, 1384.6725, 1406.671 ,\n",
              "       1421.7126, 1419.8309, 1416.2401, 1407.237 , 1400.5321, 1392.7239,\n",
              "       1378.957 , 1368.4121, 1380.1573, 1387.0847, 1384.483 , 1386.9377,\n",
              "       1384.4755, 1394.6499, 1402.1731, 1411.1584, 1425.8718, 1445.2988,\n",
              "       1460.0682, 1468.5798, 1464.7344], dtype=float32)"
            ]
          },
          "metadata": {},
          "execution_count": 42
        }
      ]
    },
    {
      "cell_type": "code",
      "source": [
        "original_copies_array = np.repeat(testY,2, axis=-1)\n",
        "\n",
        "original_copies_array.shape\n",
        "\n",
        "original=scaler.inverse_transform(np.reshape(original_copies_array,(len(testY),2)))[:,0]"
      ],
      "metadata": {
        "id": "9bXt2XDoMkdI"
      },
      "execution_count": null,
      "outputs": []
    },
    {
      "cell_type": "code",
      "source": [
        "pred"
      ],
      "metadata": {
        "colab": {
          "base_uri": "https://localhost:8080/"
        },
        "id": "EDaFrLFpMnVX",
        "outputId": "fae18ea3-434d-4160-eb35-79675fcd496a"
      },
      "execution_count": null,
      "outputs": [
        {
          "output_type": "execute_result",
          "data": {
            "text/plain": [
              "array([1485.8206, 1484.1804, 1479.3295, 1480.1558, 1503.2863, 1515.9137,\n",
              "       1517.3131, 1518.3186, 1523.3748, 1521.253 , 1515.0243, 1504.7083,\n",
              "       1501.9058, 1490.0607, 1478.0635, 1479.9167, 1505.45  , 1511.0638,\n",
              "       1499.3385, 1496.6569, 1494.7245, 1493.4807, 1491.5465, 1494.6212,\n",
              "       1496.5057, 1493.6643, 1492.8291, 1493.5143, 1493.2172, 1489.836 ,\n",
              "       1480.4916, 1477.5453, 1473.2374, 1466.6438, 1459.8755, 1460.6621,\n",
              "       1455.5033, 1451.161 , 1435.8446, 1423.5992, 1415.0092, 1404.8822,\n",
              "       1395.2548, 1408.9061, 1431.3435, 1459.6866, 1459.4863, 1434.6304,\n",
              "       1413.7174, 1394.4315, 1360.7242, 1327.6776, 1298.7218, 1283.4651,\n",
              "       1287.472 , 1273.7152, 1291.6086, 1325.2115, 1341.4552, 1350.8191,\n",
              "       1356.8167, 1343.2769, 1329.3599, 1277.3296, 1216.2665, 1164.522 ,\n",
              "       1115.9807, 1081.0057, 1157.1505, 1187.6422, 1216.3309, 1242.5024,\n",
              "       1270.9789, 1304.7682, 1322.6436, 1321.3206, 1318.169 , 1289.0679,\n",
              "       1267.2985, 1241.5526, 1231.425 , 1238.8275, 1241.4581, 1276.9628,\n",
              "       1316.3888, 1350.3849, 1366.3799, 1393.3153, 1395.3811, 1383.7837,\n",
              "       1365.7373, 1344.4308, 1317.2648, 1288.1327, 1260.5422, 1228.2634,\n",
              "       1190.7448, 1156.3148, 1157.4465, 1158.9224, 1170.191 , 1188.1757,\n",
              "       1229.6338, 1282.2893, 1324.2305, 1325.7595, 1315.2964, 1305.5023,\n",
              "       1298.1013, 1290.4064, 1281.9183, 1280.2695, 1301.4008, 1321.7384,\n",
              "       1331.8022, 1343.6376, 1351.4609, 1344.0635, 1333.7255, 1319.5331,\n",
              "       1325.8541, 1315.824 , 1306.709 , 1303.8234, 1309.0494, 1322.5999,\n",
              "       1340.4227, 1370.6886, 1394.615 , 1418.0109, 1415.6482, 1410.1318,\n",
              "       1406.3737, 1396.31  , 1379.5055, 1361.8052, 1345.1324, 1327.0903,\n",
              "       1320.7949, 1316.5648, 1348.9757, 1356.4647, 1384.6725, 1406.671 ,\n",
              "       1421.7126, 1419.8309, 1416.2401, 1407.237 , 1400.5321, 1392.7239,\n",
              "       1378.957 , 1368.4121, 1380.1573, 1387.0847, 1384.483 , 1386.9377,\n",
              "       1384.4755, 1394.6499, 1402.1731, 1411.1584, 1425.8718, 1445.2988,\n",
              "       1460.0682, 1468.5798, 1464.7344], dtype=float32)"
            ]
          },
          "metadata": {},
          "execution_count": 46
        }
      ]
    },
    {
      "cell_type": "code",
      "source": [
        "print(\"Pred Values-- \" ,pred)\n",
        "print(\"\\nOriginal Values-- \",original)"
      ],
      "metadata": {
        "colab": {
          "base_uri": "https://localhost:8080/"
        },
        "id": "dDZ0OTRDM0no",
        "outputId": "ee09b5a9-57a1-4e2e-b864-94a76518722e"
      },
      "execution_count": null,
      "outputs": [
        {
          "output_type": "stream",
          "name": "stdout",
          "text": [
            "Pred Values--  [1485.8206 1484.1804 1479.3295 1480.1558 1503.2863 1515.9137 1517.3131\n",
            " 1518.3186 1523.3748 1521.253  1515.0243 1504.7083 1501.9058 1490.0607\n",
            " 1478.0635 1479.9167 1505.45   1511.0638 1499.3385 1496.6569 1494.7245\n",
            " 1493.4807 1491.5465 1494.6212 1496.5057 1493.6643 1492.8291 1493.5143\n",
            " 1493.2172 1489.836  1480.4916 1477.5453 1473.2374 1466.6438 1459.8755\n",
            " 1460.6621 1455.5033 1451.161  1435.8446 1423.5992 1415.0092 1404.8822\n",
            " 1395.2548 1408.9061 1431.3435 1459.6866 1459.4863 1434.6304 1413.7174\n",
            " 1394.4315 1360.7242 1327.6776 1298.7218 1283.4651 1287.472  1273.7152\n",
            " 1291.6086 1325.2115 1341.4552 1350.8191 1356.8167 1343.2769 1329.3599\n",
            " 1277.3296 1216.2665 1164.522  1115.9807 1081.0057 1157.1505 1187.6422\n",
            " 1216.3309 1242.5024 1270.9789 1304.7682 1322.6436 1321.3206 1318.169\n",
            " 1289.0679 1267.2985 1241.5526 1231.425  1238.8275 1241.4581 1276.9628\n",
            " 1316.3888 1350.3849 1366.3799 1393.3153 1395.3811 1383.7837 1365.7373\n",
            " 1344.4308 1317.2648 1288.1327 1260.5422 1228.2634 1190.7448 1156.3148\n",
            " 1157.4465 1158.9224 1170.191  1188.1757 1229.6338 1282.2893 1324.2305\n",
            " 1325.7595 1315.2964 1305.5023 1298.1013 1290.4064 1281.9183 1280.2695\n",
            " 1301.4008 1321.7384 1331.8022 1343.6376 1351.4609 1344.0635 1333.7255\n",
            " 1319.5331 1325.8541 1315.824  1306.709  1303.8234 1309.0494 1322.5999\n",
            " 1340.4227 1370.6886 1394.615  1418.0109 1415.6482 1410.1318 1406.3737\n",
            " 1396.31   1379.5055 1361.8052 1345.1324 1327.0903 1320.7949 1316.5648\n",
            " 1348.9757 1356.4647 1384.6725 1406.671  1421.7126 1419.8309 1416.2401\n",
            " 1407.237  1400.5321 1392.7239 1378.957  1368.4121 1380.1573 1387.0847\n",
            " 1384.483  1386.9377 1384.4755 1394.6499 1402.1731 1411.1584 1425.8718\n",
            " 1445.2988 1460.0682 1468.5798 1464.7344]\n",
            "\n",
            "Original Values--  [1548. 1523. 1558. 1626. 1556. 1662. 1658. 1530. 1308. 1477. 1651. 1577.\n",
            " 1552. 1537. 1542. 1519. 1533. 1568. 1538. 1524. 1525. 1557. 1588. 1517.\n",
            " 1519. 1535. 1555. 1497. 1514. 1453. 1479. 1459. 1479. 1537. 1550. 1374.\n",
            " 1287. 1209. 1433. 1580. 1541. 1442. 1477. 1446. 1432. 1365. 1228. 1356.\n",
            " 1125. 1023. 1195. 1289. 1338. 1236. 1116. 1386. 1448. 1397. 1406. 1356.\n",
            "  447.  881.  967. 1028. 1067.  998. 1083. 1244. 1191. 1372. 1287. 1355.\n",
            " 1204. 1109. 1247. 1046. 1042. 1098. 1242. 1114. 1304. 1421. 1466. 1394.\n",
            " 1378. 1346. 1321. 1305. 1292. 1235.  977. 1051. 1066. 1089.  920.  831.\n",
            "  906. 1208. 1284. 1291. 1259. 1265. 1310. 1296. 1145. 1115. 1212. 1204.\n",
            " 1226. 1345. 1356. 1379. 1148. 1311. 1292. 1288. 1275. 1245. 1242. 1161.\n",
            " 1211. 1204. 1430. 1443. 1427. 1384. 1443. 1402. 1376. 1422. 1370. 1388.\n",
            " 1095. 1347. 1170. 1260. 1324. 1407. 1399. 1436. 1411. 1439. 1471. 1456.\n",
            " 1268. 1314. 1398. 1357. 1402. 1313. 1379. 1402. 1371. 1344. 1381. 1398.\n",
            " 1483. 1514. 1543. 1472. 1501. 1483. 1436. 1453. 1518.]\n"
          ]
        }
      ]
    },
    {
      "cell_type": "code",
      "source": [
        "import matplotlib.pyplot as plt"
      ],
      "metadata": {
        "id": "i9oM8sXUM-Vy"
      },
      "execution_count": null,
      "outputs": []
    },
    {
      "cell_type": "code",
      "source": [
        "plt.plot(original, color = 'red', label = 'Real Wave Value')\n",
        "plt.plot(pred, color = 'blue', label = 'Predicted Wave Price')\n",
        "plt.title(' Wave Prediction')\n",
        "plt.xlabel('Time')\n",
        "plt.ylabel(' Wave')\n",
        "plt.legend()\n",
        "plt.show()"
      ],
      "metadata": {
        "colab": {
          "base_uri": "https://localhost:8080/",
          "height": 295
        },
        "id": "E2ZpS5xLNBM-",
        "outputId": "0cad9717-bfc6-41e7-cfc5-ebebe15811ad"
      },
      "execution_count": null,
      "outputs": [
        {
          "output_type": "display_data",
          "data": {
            "text/plain": [
              "<Figure size 432x288 with 1 Axes>"
            ],
            "image/png": "[encoded data removed]"
          },
          "metadata": {
            "needs_background": "light"
          }
        }
      ]
    },
    {
      "cell_type": "code",
      "source": [
        "df_30_days_past=df.iloc[-7:,:]"
      ],
      "metadata": {
        "id": "d0e3FgklNVfD"
      },
      "execution_count": null,
      "outputs": []
    },
    {
      "cell_type": "code",
      "source": [
        "df_30_days_past"
      ],
      "metadata": {
        "colab": {
          "base_uri": "https://localhost:8080/",
          "height": 300
        },
        "id": "LmL6BJ9vNWnu",
        "outputId": "4734d6f7-1868-480b-9797-a548ef5aa40f"
      },
      "execution_count": null,
      "outputs": [
        {
          "output_type": "execute_result",
          "data": {
            "text/plain": [
              "            Wave  Wind\n",
              "Date                  \n",
              "2022-05-04  1543     7\n",
              "2022-05-05  1472     7\n",
              "2022-05-06  1501     6\n",
              "2022-05-07  1483     3\n",
              "2022-05-08  1436     3\n",
              "2022-05-09  1453     6\n",
              "2022-05-10  1518     6"
            ],
            "text/html": [
              "\n",
              "  <div id=\"df-e4d8b7cc-bfd3-46f5-b9e3-f17a6ed3d4de\">\n",
              "    <div class=\"colab-df-container\">\n",
              "      <div>\n",
              "<style scoped>\n",
              "    .dataframe tbody tr th:only-of-type {\n",
              "        vertical-align: middle;\n",
              "    }\n",
              "\n",
              "    .dataframe tbody tr th {\n",
              "        vertical-align: top;\n",
              "    }\n",
              "\n",
              "    .dataframe thead th {\n",
              "        text-align: right;\n",
              "    }\n",
              "</style>\n",
              "<table border=\"1\" class=\"dataframe\">\n",
              "  <thead>\n",
              "    <tr style=\"text-align: right;\">\n",
              "      <th></th>\n",
              "      <th>Wave</th>\n",
              "      <th>Wind</th>\n",
              "    </tr>\n",
              "    <tr>\n",
              "      <th>Date</th>\n",
              "      <th></th>\n",
              "      <th></th>\n",
              "    </tr>\n",
              "  </thead>\n",
              "  <tbody>\n",
              "    <tr>\n",
              "      <th>2022-05-04</th>\n",
              "      <td>1543</td>\n",
              "      <td>7</td>\n",
              "    </tr>\n",
              "    <tr>\n",
              "      <th>2022-05-05</th>\n",
              "      <td>1472</td>\n",
              "      <td>7</td>\n",
              "    </tr>\n",
              "    <tr>\n",
              "      <th>2022-05-06</th>\n",
              "      <td>1501</td>\n",
              "      <td>6</td>\n",
              "    </tr>\n",
              "    <tr>\n",
              "      <th>2022-05-07</th>\n",
              "      <td>1483</td>\n",
              "      <td>3</td>\n",
              "    </tr>\n",
              "    <tr>\n",
              "      <th>2022-05-08</th>\n",
              "      <td>1436</td>\n",
              "      <td>3</td>\n",
              "    </tr>\n",
              "    <tr>\n",
              "      <th>2022-05-09</th>\n",
              "      <td>1453</td>\n",
              "      <td>6</td>\n",
              "    </tr>\n",
              "    <tr>\n",
              "      <th>2022-05-10</th>\n",
              "      <td>1518</td>\n",
              "      <td>6</td>\n",
              "    </tr>\n",
              "  </tbody>\n",
              "</table>\n",
              "</div>\n",
              "      <button class=\"colab-df-convert\" onclick=\"convertToInteractive('df-e4d8b7cc-bfd3-46f5-b9e3-f17a6ed3d4de')\"\n",
              "              title=\"Convert this dataframe to an interactive table.\"\n",
              "              style=\"display:none;\">\n",
              "        \n",
              "  <svg xmlns=\"http://www.w3.org/2000/svg\" height=\"24px\"viewBox=\"0 0 24 24\"\n",
              "       width=\"24px\">\n",
              "    <path d=\"M0 0h24v24H0V0z\" fill=\"none\"/>\n",
              "    <path d=\"M18.56 5.44l.94 2.06.94-2.06 2.06-.94-2.06-.94-.94-2.06-.94 2.06-2.06.94zm-11 1L8.5 8.5l.94-2.06 2.06-.94-2.06-.94L8.5 2.5l-.94 2.06-2.06.94zm10 10l.94 2.06.94-2.06 2.06-.94-2.06-.94-.94-2.06-.94 2.06-2.06.94z\"/><path d=\"M17.41 7.96l-1.37-1.37c-.4-.4-.92-.59-1.43-.59-.52 0-1.04.2-1.43.59L10.3 9.45l-7.72 7.72c-.78.78-.78 2.05 0 2.83L4 21.41c.39.39.9.59 1.41.59.51 0 1.02-.2 1.41-.59l7.78-7.78 2.81-2.81c.8-.78.8-2.07 0-2.86zM5.41 20L4 18.59l7.72-7.72 1.47 1.35L5.41 20z\"/>\n",
              "  </svg>\n",
              "      </button>\n",
              "      \n",
              "  <style>\n",
              "    .colab-df-container {\n",
              "      display:flex;\n",
              "      flex-wrap:wrap;\n",
              "      gap: 12px;\n",
              "    }\n",
              "\n",
              "    .colab-df-convert {\n",
              "      background-color: #E8F0FE;\n",
              "      border: none;\n",
              "      border-radius: 50%;\n",
              "      cursor: pointer;\n",
              "      display: none;\n",
              "      fill: #1967D2;\n",
              "      height: 32px;\n",
              "      padding: 0 0 0 0;\n",
              "      width: 32px;\n",
              "    }\n",
              "\n",
              "    .colab-df-convert:hover {\n",
              "      background-color: #E2EBFA;\n",
              "      box-shadow: 0px 1px 2px rgba(60, 64, 67, 0.3), 0px 1px 3px 1px rgba(60, 64, 67, 0.15);\n",
              "      fill: #174EA6;\n",
              "    }\n",
              "\n",
              "    [theme=dark] .colab-df-convert {\n",
              "      background-color: #3B4455;\n",
              "      fill: #D2E3FC;\n",
              "    }\n",
              "\n",
              "    [theme=dark] .colab-df-convert:hover {\n",
              "      background-color: #434B5C;\n",
              "      box-shadow: 0px 1px 3px 1px rgba(0, 0, 0, 0.15);\n",
              "      filter: drop-shadow(0px 1px 2px rgba(0, 0, 0, 0.3));\n",
              "      fill: #FFFFFF;\n",
              "    }\n",
              "  </style>\n",
              "\n",
              "      <script>\n",
              "        const buttonEl =\n",
              "          document.querySelector('#df-e4d8b7cc-bfd3-46f5-b9e3-f17a6ed3d4de button.colab-df-convert');\n",
              "        buttonEl.style.display =\n",
              "          google.colab.kernel.accessAllowed ? 'block' : 'none';\n",
              "\n",
              "        async function convertToInteractive(key) {\n",
              "          const element = document.querySelector('#df-e4d8b7cc-bfd3-46f5-b9e3-f17a6ed3d4de');\n",
              "          const dataTable =\n",
              "            await google.colab.kernel.invokeFunction('convertToInteractive',\n",
              "                                                     [key], {});\n",
              "          if (!dataTable) return;\n",
              "\n",
              "          const docLinkHtml = 'Like what you see? Visit the ' +\n",
              "            '<a target=\"_blank\" href=https://colab.research.google.com/notebooks/data_table.ipynb>data table notebook</a>'\n",
              "            + ' to learn more about interactive tables.';\n",
              "          element.innerHTML = '';\n",
              "          dataTable['output_type'] = 'display_data';\n",
              "          await google.colab.output.renderOutput(dataTable, element);\n",
              "          const docLink = document.createElement('div');\n",
              "          docLink.innerHTML = docLinkHtml;\n",
              "          element.appendChild(docLink);\n",
              "        }\n",
              "      </script>\n",
              "    </div>\n",
              "  </div>\n",
              "  "
            ]
          },
          "metadata": {},
          "execution_count": 51
        }
      ]
    }
  ]
}